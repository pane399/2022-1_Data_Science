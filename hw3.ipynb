{
  "cells": [
    {
      "cell_type": "markdown",
      "metadata": {
        "nbgrader": {
          "grade": false,
          "grade_id": "intro",
          "locked": true,
          "schema_version": 2,
          "solution": false
        },
        "id": "lF7ywjsExYfq"
      },
      "source": [
        "# Homework 3: Pandas, Regular Expressions, Visualizations\n",
        "\n",
        "## Due Date: Fri 4/22, 11:59 pm KST\n",
        "\n",
        "**Collaboration Policy:** You may talk with others about the homework, but we ask that you **write your solutions individually**. If you do discuss the assignments with others, please **include their names** in the following line.\n",
        "\n",
        "**Collaborators**: *list collaborators here (if applicable)*"
      ]
    },
    {
      "cell_type": "markdown",
      "metadata": {
        "id": "niiupPGmxYfr"
      },
      "source": [
        "### Score Breakdown\n",
        "\n",
        "Question | Points\n",
        "--- | ---\n",
        "Question 1a | 2\n",
        "Question 1b | 1\n",
        "Question 1c | 2\n",
        "Question 2 | 2\n",
        "Question 3 | 1\n",
        "Question 4 | 2\n",
        "Question 5a | 1\n",
        "Question 5b | 2\n",
        "Question 5c | 2\n",
        "Question 6a | 1\n",
        "Question 6b | 1\n",
        "Question 6c | 1\n",
        "Question 6d | 2\n",
        "Question 6e | 2\n",
        "Total | 22"
      ]
    },
    {
      "cell_type": "markdown",
      "metadata": {
        "id": "RZ-NFp-MxYfs"
      },
      "source": [
        "### Initialize your environment\n",
        "\n",
        "This cell should run without error."
      ]
    },
    {
      "cell_type": "code",
      "execution_count": null,
      "metadata": {
        "nbgrader": {
          "grade": false,
          "grade_id": "import",
          "locked": true,
          "schema_version": 2,
          "solution": false
        },
        "id": "QjKfNGloxYfs"
      },
      "outputs": [],
      "source": [
        "import csv\n",
        "import numpy as np\n",
        "import pandas as pd\n",
        "import matplotlib.pyplot as plt\n",
        "import json\n",
        "import zipfile\n",
        "from pprint import pprint # to get a more easily-readable view.\n",
        "\n",
        "# Ensure that Pandas shows at least 280 characters in columns, so we can see full tweets\n",
        "pd.set_option('max_colwidth', 280)\n",
        "\n",
        "%matplotlib inline\n",
        "plt.style.use('fivethirtyeight')\n",
        "import seaborn as sns\n",
        "sns.set()\n",
        "sns.set_context(\"talk\")\n",
        "import re"
      ]
    },
    {
      "cell_type": "markdown",
      "source": [
        "Some common utilities."
      ],
      "metadata": {
        "id": "eobO7jKlyBNy"
      }
    },
    {
      "cell_type": "code",
      "source": [
        "def utils_head(filename, lines=5):\n",
        "    \"\"\"\n",
        "    Returns the first few lines of a file.\n",
        "    \n",
        "    filename: the name of the file to open\n",
        "    lines: the number of lines to include\n",
        "    \n",
        "    return: A list of the first few lines from the file.\n",
        "    \"\"\"\n",
        "    from itertools import islice\n",
        "    with open(filename, \"r\") as f:\n",
        "        return list(islice(f, lines))"
      ],
      "metadata": {
        "id": "dU2nKrDryAPW"
      },
      "execution_count": null,
      "outputs": []
    },
    {
      "cell_type": "markdown",
      "metadata": {
        "id": "iYGdu43YxYfs"
      },
      "source": [
        "# Part 1: Bike Sharing\n",
        "\n",
        "The data we are exploring is collected from a bike sharing system in Washington D.C.\n",
        "\n",
        "The variables in this data frame are defined as:\n",
        "\n",
        "Variable       | Description\n",
        "-------------- | ------------------------------------------------------------------\n",
        "instant | record index\n",
        "dteday | date\n",
        "season | 1. spring <br> 2. summer <br> 3. fall <br> 4. winter\n",
        "yr | year (0: 2011, 1:2012)\n",
        "mnth | month ( 1 to 12)\n",
        "hr | hour (0 to 23)\n",
        "holiday | whether day is holiday or not\n",
        "weekday | day of the week\n",
        "workingday | if day is neither weekend nor holiday\n",
        "weathersit | 1. clear or partly cloudy <br> 2. mist and clouds <br> 3. light snow or rain <br> 4. heavy rain or snow\n",
        "temp | normalized temperature in Celsius (divided by 41)\n",
        "atemp | normalized \"feels-like\" temperature in Celsius (divided by 50)\n",
        "hum | normalized percent humidity (divided by 100)\n",
        "windspeed| normalized wind speed (divided by 67)\n",
        "casual | count of casual users\n",
        "registered | count of registered users\n",
        "cnt | count of total rental bikes including casual and registered  "
      ]
    },
    {
      "cell_type": "markdown",
      "source": [
        "## Mount your Google Drive\n",
        "When you run a code cell, Colab executes it on a temporary cloud instance.  Every time you open the notebook, you will be assigned a different machine.  All compute state and files saved on the previous machine will be lost.  Therefore, you may need to re-download datasets or rerun code after a reset. Here, you can mount your Google drive to the temporary cloud instance's local filesystem using the following code snippet and save files under the specified directory (note that you will have to provide permission every time you run this)."
      ],
      "metadata": {
        "id": "PkdgoOoey69H"
      }
    },
    {
      "cell_type": "code",
      "source": [
        "# mount Google drive\n",
        "from google.colab import drive\n",
        "drive.mount('/content/drive')\n",
        "\n",
        "# now you can see files\n",
        "!echo -e \"\\nNumber of Google drive files in /content/drive/My Drive/:\"\n",
        "!ls -l \"/content/drive/My Drive/\" | wc -l\n",
        "# by the way, you can run any linux command by putting a ! at the start of the line\n",
        "\n",
        "# by default everything gets executed and saved in /content/\n",
        "!echo -e \"\\nCurrent directory:\"\n",
        "!pwd"
      ],
      "metadata": {
        "colab": {
          "base_uri": "https://localhost:8080/"
        },
        "id": "dwPywAT3yQ2o",
        "outputId": "d7fff69f-0c5c-408b-b61f-a81da551b6ba"
      },
      "execution_count": null,
      "outputs": [
        {
          "output_type": "stream",
          "name": "stdout",
          "text": [
            "Mounted at /content/drive\n",
            "\n",
            "Number of Google drive files in /content/drive/My Drive/:\n",
            "9\n",
            "\n",
            "Current directory:\n",
            "/content\n"
          ]
        }
      ]
    },
    {
      "cell_type": "code",
      "execution_count": null,
      "metadata": {
        "colab": {
          "base_uri": "https://localhost:8080/"
        },
        "id": "vnZ-ztOJxYft",
        "outputId": "2a70926f-a282-4cd0-96da-e73dee5833a6"
      },
      "outputs": [
        {
          "output_type": "stream",
          "name": "stdout",
          "text": [
            "instant,dteday,season,yr,mnth,hr,holiday,weekday,workingday,weathersit,temp,atemp,hum,windspeed,casual,registered,cnt\n",
            "1,2011-01-01,1,0,1,0,0,6,0,1,0.24,0.2879,0.81,0,3,13,16\n",
            "2,2011-01-01,1,0,1,1,0,6,0,1,0.22,0.2727,0.8,0,8,32,40\n",
            "3,2011-01-01,1,0,1,2,0,6,0,1,0.22,0.2727,0.8,0,5,27,32\n",
            "4,2011-01-01,1,0,1,3,0,6,0,1,0.24,0.2879,0.75,0,3,10,13\n"
          ]
        }
      ],
      "source": [
        "workspace_path = '/content/drive/MyDrive/Colab Notebooks/hw3/'  # Change this path!\n",
        "for line in utils_head(workspace_path+'bikeshare.txt'):\n",
        "    print(line, end=\"\")"
      ]
    },
    {
      "cell_type": "markdown",
      "metadata": {
        "id": "AJJlSaDnxYft"
      },
      "source": [
        "### Loading the data\n",
        "\n",
        "The following code loads the data into a Pandas DataFrame."
      ]
    },
    {
      "cell_type": "code",
      "execution_count": null,
      "metadata": {
        "colab": {
          "base_uri": "https://localhost:8080/",
          "height": 206
        },
        "id": "soMc90QMxYft",
        "outputId": "52e53afb-7f46-45ec-bc0c-00bc3b520d92"
      },
      "outputs": [
        {
          "output_type": "execute_result",
          "data": {
            "text/plain": [
              "   instant      dteday  season  yr  mnth  hr  holiday  weekday  workingday  \\\n",
              "0        1  2011-01-01       1   0     1   0        0        6           0   \n",
              "1        2  2011-01-01       1   0     1   1        0        6           0   \n",
              "2        3  2011-01-01       1   0     1   2        0        6           0   \n",
              "3        4  2011-01-01       1   0     1   3        0        6           0   \n",
              "4        5  2011-01-01       1   0     1   4        0        6           0   \n",
              "\n",
              "   weathersit  temp   atemp   hum  windspeed  casual  registered  cnt  \n",
              "0           1  0.24  0.2879  0.81        0.0       3          13   16  \n",
              "1           1  0.22  0.2727  0.80        0.0       8          32   40  \n",
              "2           1  0.22  0.2727  0.80        0.0       5          27   32  \n",
              "3           1  0.24  0.2879  0.75        0.0       3          10   13  \n",
              "4           1  0.24  0.2879  0.75        0.0       0           1    1  "
            ],
            "text/html": [
              "\n",
              "  <div id=\"df-a7245753-8a2d-447b-8ee4-0b82cc7421c3\">\n",
              "    <div class=\"colab-df-container\">\n",
              "      <div>\n",
              "<style scoped>\n",
              "    .dataframe tbody tr th:only-of-type {\n",
              "        vertical-align: middle;\n",
              "    }\n",
              "\n",
              "    .dataframe tbody tr th {\n",
              "        vertical-align: top;\n",
              "    }\n",
              "\n",
              "    .dataframe thead th {\n",
              "        text-align: right;\n",
              "    }\n",
              "</style>\n",
              "<table border=\"1\" class=\"dataframe\">\n",
              "  <thead>\n",
              "    <tr style=\"text-align: right;\">\n",
              "      <th></th>\n",
              "      <th>instant</th>\n",
              "      <th>dteday</th>\n",
              "      <th>season</th>\n",
              "      <th>yr</th>\n",
              "      <th>mnth</th>\n",
              "      <th>hr</th>\n",
              "      <th>holiday</th>\n",
              "      <th>weekday</th>\n",
              "      <th>workingday</th>\n",
              "      <th>weathersit</th>\n",
              "      <th>temp</th>\n",
              "      <th>atemp</th>\n",
              "      <th>hum</th>\n",
              "      <th>windspeed</th>\n",
              "      <th>casual</th>\n",
              "      <th>registered</th>\n",
              "      <th>cnt</th>\n",
              "    </tr>\n",
              "  </thead>\n",
              "  <tbody>\n",
              "    <tr>\n",
              "      <th>0</th>\n",
              "      <td>1</td>\n",
              "      <td>2011-01-01</td>\n",
              "      <td>1</td>\n",
              "      <td>0</td>\n",
              "      <td>1</td>\n",
              "      <td>0</td>\n",
              "      <td>0</td>\n",
              "      <td>6</td>\n",
              "      <td>0</td>\n",
              "      <td>1</td>\n",
              "      <td>0.24</td>\n",
              "      <td>0.2879</td>\n",
              "      <td>0.81</td>\n",
              "      <td>0.0</td>\n",
              "      <td>3</td>\n",
              "      <td>13</td>\n",
              "      <td>16</td>\n",
              "    </tr>\n",
              "    <tr>\n",
              "      <th>1</th>\n",
              "      <td>2</td>\n",
              "      <td>2011-01-01</td>\n",
              "      <td>1</td>\n",
              "      <td>0</td>\n",
              "      <td>1</td>\n",
              "      <td>1</td>\n",
              "      <td>0</td>\n",
              "      <td>6</td>\n",
              "      <td>0</td>\n",
              "      <td>1</td>\n",
              "      <td>0.22</td>\n",
              "      <td>0.2727</td>\n",
              "      <td>0.80</td>\n",
              "      <td>0.0</td>\n",
              "      <td>8</td>\n",
              "      <td>32</td>\n",
              "      <td>40</td>\n",
              "    </tr>\n",
              "    <tr>\n",
              "      <th>2</th>\n",
              "      <td>3</td>\n",
              "      <td>2011-01-01</td>\n",
              "      <td>1</td>\n",
              "      <td>0</td>\n",
              "      <td>1</td>\n",
              "      <td>2</td>\n",
              "      <td>0</td>\n",
              "      <td>6</td>\n",
              "      <td>0</td>\n",
              "      <td>1</td>\n",
              "      <td>0.22</td>\n",
              "      <td>0.2727</td>\n",
              "      <td>0.80</td>\n",
              "      <td>0.0</td>\n",
              "      <td>5</td>\n",
              "      <td>27</td>\n",
              "      <td>32</td>\n",
              "    </tr>\n",
              "    <tr>\n",
              "      <th>3</th>\n",
              "      <td>4</td>\n",
              "      <td>2011-01-01</td>\n",
              "      <td>1</td>\n",
              "      <td>0</td>\n",
              "      <td>1</td>\n",
              "      <td>3</td>\n",
              "      <td>0</td>\n",
              "      <td>6</td>\n",
              "      <td>0</td>\n",
              "      <td>1</td>\n",
              "      <td>0.24</td>\n",
              "      <td>0.2879</td>\n",
              "      <td>0.75</td>\n",
              "      <td>0.0</td>\n",
              "      <td>3</td>\n",
              "      <td>10</td>\n",
              "      <td>13</td>\n",
              "    </tr>\n",
              "    <tr>\n",
              "      <th>4</th>\n",
              "      <td>5</td>\n",
              "      <td>2011-01-01</td>\n",
              "      <td>1</td>\n",
              "      <td>0</td>\n",
              "      <td>1</td>\n",
              "      <td>4</td>\n",
              "      <td>0</td>\n",
              "      <td>6</td>\n",
              "      <td>0</td>\n",
              "      <td>1</td>\n",
              "      <td>0.24</td>\n",
              "      <td>0.2879</td>\n",
              "      <td>0.75</td>\n",
              "      <td>0.0</td>\n",
              "      <td>0</td>\n",
              "      <td>1</td>\n",
              "      <td>1</td>\n",
              "    </tr>\n",
              "  </tbody>\n",
              "</table>\n",
              "</div>\n",
              "      <button class=\"colab-df-convert\" onclick=\"convertToInteractive('df-a7245753-8a2d-447b-8ee4-0b82cc7421c3')\"\n",
              "              title=\"Convert this dataframe to an interactive table.\"\n",
              "              style=\"display:none;\">\n",
              "        \n",
              "  <svg xmlns=\"http://www.w3.org/2000/svg\" height=\"24px\"viewBox=\"0 0 24 24\"\n",
              "       width=\"24px\">\n",
              "    <path d=\"M0 0h24v24H0V0z\" fill=\"none\"/>\n",
              "    <path d=\"M18.56 5.44l.94 2.06.94-2.06 2.06-.94-2.06-.94-.94-2.06-.94 2.06-2.06.94zm-11 1L8.5 8.5l.94-2.06 2.06-.94-2.06-.94L8.5 2.5l-.94 2.06-2.06.94zm10 10l.94 2.06.94-2.06 2.06-.94-2.06-.94-.94-2.06-.94 2.06-2.06.94z\"/><path d=\"M17.41 7.96l-1.37-1.37c-.4-.4-.92-.59-1.43-.59-.52 0-1.04.2-1.43.59L10.3 9.45l-7.72 7.72c-.78.78-.78 2.05 0 2.83L4 21.41c.39.39.9.59 1.41.59.51 0 1.02-.2 1.41-.59l7.78-7.78 2.81-2.81c.8-.78.8-2.07 0-2.86zM5.41 20L4 18.59l7.72-7.72 1.47 1.35L5.41 20z\"/>\n",
              "  </svg>\n",
              "      </button>\n",
              "      \n",
              "  <style>\n",
              "    .colab-df-container {\n",
              "      display:flex;\n",
              "      flex-wrap:wrap;\n",
              "      gap: 12px;\n",
              "    }\n",
              "\n",
              "    .colab-df-convert {\n",
              "      background-color: #E8F0FE;\n",
              "      border: none;\n",
              "      border-radius: 50%;\n",
              "      cursor: pointer;\n",
              "      display: none;\n",
              "      fill: #1967D2;\n",
              "      height: 32px;\n",
              "      padding: 0 0 0 0;\n",
              "      width: 32px;\n",
              "    }\n",
              "\n",
              "    .colab-df-convert:hover {\n",
              "      background-color: #E2EBFA;\n",
              "      box-shadow: 0px 1px 2px rgba(60, 64, 67, 0.3), 0px 1px 3px 1px rgba(60, 64, 67, 0.15);\n",
              "      fill: #174EA6;\n",
              "    }\n",
              "\n",
              "    [theme=dark] .colab-df-convert {\n",
              "      background-color: #3B4455;\n",
              "      fill: #D2E3FC;\n",
              "    }\n",
              "\n",
              "    [theme=dark] .colab-df-convert:hover {\n",
              "      background-color: #434B5C;\n",
              "      box-shadow: 0px 1px 3px 1px rgba(0, 0, 0, 0.15);\n",
              "      filter: drop-shadow(0px 1px 2px rgba(0, 0, 0, 0.3));\n",
              "      fill: #FFFFFF;\n",
              "    }\n",
              "  </style>\n",
              "\n",
              "      <script>\n",
              "        const buttonEl =\n",
              "          document.querySelector('#df-a7245753-8a2d-447b-8ee4-0b82cc7421c3 button.colab-df-convert');\n",
              "        buttonEl.style.display =\n",
              "          google.colab.kernel.accessAllowed ? 'block' : 'none';\n",
              "\n",
              "        async function convertToInteractive(key) {\n",
              "          const element = document.querySelector('#df-a7245753-8a2d-447b-8ee4-0b82cc7421c3');\n",
              "          const dataTable =\n",
              "            await google.colab.kernel.invokeFunction('convertToInteractive',\n",
              "                                                     [key], {});\n",
              "          if (!dataTable) return;\n",
              "\n",
              "          const docLinkHtml = 'Like what you see? Visit the ' +\n",
              "            '<a target=\"_blank\" href=https://colab.research.google.com/notebooks/data_table.ipynb>data table notebook</a>'\n",
              "            + ' to learn more about interactive tables.';\n",
              "          element.innerHTML = '';\n",
              "          dataTable['output_type'] = 'display_data';\n",
              "          await google.colab.output.renderOutput(dataTable, element);\n",
              "          const docLink = document.createElement('div');\n",
              "          docLink.innerHTML = docLinkHtml;\n",
              "          element.appendChild(docLink);\n",
              "        }\n",
              "      </script>\n",
              "    </div>\n",
              "  </div>\n",
              "  "
            ]
          },
          "metadata": {},
          "execution_count": 5
        }
      ],
      "source": [
        "bike = pd.read_csv(workspace_path+'bikeshare.txt')\n",
        "bike.head()"
      ]
    },
    {
      "cell_type": "markdown",
      "metadata": {
        "id": "7Le0aM3kxYfu"
      },
      "source": [
        "Below, we show the shape of the file. You should see that the size of the DataFrame matches the number of lines in the file, minus the header row."
      ]
    },
    {
      "cell_type": "code",
      "execution_count": null,
      "metadata": {
        "colab": {
          "base_uri": "https://localhost:8080/"
        },
        "id": "1E8fS3ZaxYfu",
        "outputId": "b1633f8e-120a-42ca-aa36-51c66c8db734"
      },
      "outputs": [
        {
          "output_type": "execute_result",
          "data": {
            "text/plain": [
              "(17379, 17)"
            ]
          },
          "metadata": {},
          "execution_count": 6
        }
      ],
      "source": [
        "bike.shape"
      ]
    },
    {
      "cell_type": "markdown",
      "metadata": {
        "id": "cOxWDMNBxYfu"
      },
      "source": [
        "## Question 1: Data Preparation\n",
        "A few of the variables that are numeric/integer actually encode categorical data. These include `holiday`, `weekday`, `workingday`, and `weathersit`. In the following problem, we will convert these four variables to strings specifying the categories. In particular, use 3-letter labels (`Sun`, `Mon`, `Tue`, `Wed`, `Thu`, `Fri`, and `Sat`) for `weekday`. You may simply use `yes`/`no` for `holiday` and `workingday`. \n",
        "\n",
        "In this exercise we will *mutate* the data frame, **overwriting the corresponding variables in the data frame.** However, our notebook will effectively document this in-place data transformation for future readers. Make sure to leave the underlying datafile `bikeshare.txt` unmodified."
      ]
    },
    {
      "cell_type": "markdown",
      "metadata": {
        "id": "3oE60PhSxYfu"
      },
      "source": [
        "### Question 1a\n",
        "\n",
        "\n",
        "Decode the `holiday`, `weekday`, `workingday`, and `weathersit` fields:\n",
        "\n",
        "1. holiday: Convert to `yes` and `no`. **Hint**: There are fewer holidays...\n",
        "1. weekday: It turns out that Monday is the day with the most holidays.  Mutate the `'weekday'` column to use the 3-letter label (`'Sun'`, `'Mon'`, `'Tue'`, `'Wed'`, `'Thu'`, `'Fri'`, and `'Sat'`) instead of its current numerical values. Note `0` corresponds to `Sun`, `1` to `Mon` and so on.\n",
        "1. workingday: Convert to `yes` and `no`.\n",
        "1. weathersit: You should replace each value with one of `Clear`, `Mist`, `Light`, or `Heavy`.\n",
        "\n",
        "**Note:** If you want to revert changes, run the cell that reloads the csv.\n",
        "\n",
        "**Hint:**  One simple approach is to use the [replace](https://pandas.pydata.org/pandas-docs/stable/reference/api/pandas.DataFrame.replace.html) method of the pandas DataFrame class. We haven't discussed how to do this so you'll need to look at the documentation. The most concise way is with the approach described in the documentation as ``nested-dictonaries``, though there are many possible solutions. E.g. for a DataFrame nested dictionaries, e.g., `{'a': {'b': np.nan}}`, are read as follows: look in column `a` for the value `b` and replace it with `NaN`.\n",
        "\n",
        "<!--\n",
        "BEGIN QUESTION\n",
        "name: q1a\n",
        "points: 2\n",
        "-->"
      ]
    },
    {
      "cell_type": "code",
      "execution_count": null,
      "metadata": {
        "colab": {
          "base_uri": "https://localhost:8080/",
          "height": 206
        },
        "id": "Pp5RIcp5xYfv",
        "outputId": "82e09e54-e2a7-4a16-a340-1f2be7114272"
      },
      "outputs": [
        {
          "output_type": "execute_result",
          "data": {
            "text/plain": [
              "   instant      dteday  season  yr  mnth  hr holiday weekday workingday  \\\n",
              "0        1  2011-01-01       1   0     1   0      no     Sat        yes   \n",
              "1        2  2011-01-01       1   0     1   1      no     Sat        yes   \n",
              "2        3  2011-01-01       1   0     1   2      no     Sat        yes   \n",
              "3        4  2011-01-01       1   0     1   3      no     Sat        yes   \n",
              "4        5  2011-01-01       1   0     1   4      no     Sat        yes   \n",
              "\n",
              "  weathersit  temp   atemp   hum  windspeed  casual  registered  cnt  \n",
              "0       Mist  0.24  0.2879  0.81        0.0       3          13   16  \n",
              "1       Mist  0.22  0.2727  0.80        0.0       8          32   40  \n",
              "2       Mist  0.22  0.2727  0.80        0.0       5          27   32  \n",
              "3       Mist  0.24  0.2879  0.75        0.0       3          10   13  \n",
              "4       Mist  0.24  0.2879  0.75        0.0       0           1    1  "
            ],
            "text/html": [
              "\n",
              "  <div id=\"df-995ff914-9cd1-49c7-b095-d143f30615be\">\n",
              "    <div class=\"colab-df-container\">\n",
              "      <div>\n",
              "<style scoped>\n",
              "    .dataframe tbody tr th:only-of-type {\n",
              "        vertical-align: middle;\n",
              "    }\n",
              "\n",
              "    .dataframe tbody tr th {\n",
              "        vertical-align: top;\n",
              "    }\n",
              "\n",
              "    .dataframe thead th {\n",
              "        text-align: right;\n",
              "    }\n",
              "</style>\n",
              "<table border=\"1\" class=\"dataframe\">\n",
              "  <thead>\n",
              "    <tr style=\"text-align: right;\">\n",
              "      <th></th>\n",
              "      <th>instant</th>\n",
              "      <th>dteday</th>\n",
              "      <th>season</th>\n",
              "      <th>yr</th>\n",
              "      <th>mnth</th>\n",
              "      <th>hr</th>\n",
              "      <th>holiday</th>\n",
              "      <th>weekday</th>\n",
              "      <th>workingday</th>\n",
              "      <th>weathersit</th>\n",
              "      <th>temp</th>\n",
              "      <th>atemp</th>\n",
              "      <th>hum</th>\n",
              "      <th>windspeed</th>\n",
              "      <th>casual</th>\n",
              "      <th>registered</th>\n",
              "      <th>cnt</th>\n",
              "    </tr>\n",
              "  </thead>\n",
              "  <tbody>\n",
              "    <tr>\n",
              "      <th>0</th>\n",
              "      <td>1</td>\n",
              "      <td>2011-01-01</td>\n",
              "      <td>1</td>\n",
              "      <td>0</td>\n",
              "      <td>1</td>\n",
              "      <td>0</td>\n",
              "      <td>no</td>\n",
              "      <td>Sat</td>\n",
              "      <td>yes</td>\n",
              "      <td>Mist</td>\n",
              "      <td>0.24</td>\n",
              "      <td>0.2879</td>\n",
              "      <td>0.81</td>\n",
              "      <td>0.0</td>\n",
              "      <td>3</td>\n",
              "      <td>13</td>\n",
              "      <td>16</td>\n",
              "    </tr>\n",
              "    <tr>\n",
              "      <th>1</th>\n",
              "      <td>2</td>\n",
              "      <td>2011-01-01</td>\n",
              "      <td>1</td>\n",
              "      <td>0</td>\n",
              "      <td>1</td>\n",
              "      <td>1</td>\n",
              "      <td>no</td>\n",
              "      <td>Sat</td>\n",
              "      <td>yes</td>\n",
              "      <td>Mist</td>\n",
              "      <td>0.22</td>\n",
              "      <td>0.2727</td>\n",
              "      <td>0.80</td>\n",
              "      <td>0.0</td>\n",
              "      <td>8</td>\n",
              "      <td>32</td>\n",
              "      <td>40</td>\n",
              "    </tr>\n",
              "    <tr>\n",
              "      <th>2</th>\n",
              "      <td>3</td>\n",
              "      <td>2011-01-01</td>\n",
              "      <td>1</td>\n",
              "      <td>0</td>\n",
              "      <td>1</td>\n",
              "      <td>2</td>\n",
              "      <td>no</td>\n",
              "      <td>Sat</td>\n",
              "      <td>yes</td>\n",
              "      <td>Mist</td>\n",
              "      <td>0.22</td>\n",
              "      <td>0.2727</td>\n",
              "      <td>0.80</td>\n",
              "      <td>0.0</td>\n",
              "      <td>5</td>\n",
              "      <td>27</td>\n",
              "      <td>32</td>\n",
              "    </tr>\n",
              "    <tr>\n",
              "      <th>3</th>\n",
              "      <td>4</td>\n",
              "      <td>2011-01-01</td>\n",
              "      <td>1</td>\n",
              "      <td>0</td>\n",
              "      <td>1</td>\n",
              "      <td>3</td>\n",
              "      <td>no</td>\n",
              "      <td>Sat</td>\n",
              "      <td>yes</td>\n",
              "      <td>Mist</td>\n",
              "      <td>0.24</td>\n",
              "      <td>0.2879</td>\n",
              "      <td>0.75</td>\n",
              "      <td>0.0</td>\n",
              "      <td>3</td>\n",
              "      <td>10</td>\n",
              "      <td>13</td>\n",
              "    </tr>\n",
              "    <tr>\n",
              "      <th>4</th>\n",
              "      <td>5</td>\n",
              "      <td>2011-01-01</td>\n",
              "      <td>1</td>\n",
              "      <td>0</td>\n",
              "      <td>1</td>\n",
              "      <td>4</td>\n",
              "      <td>no</td>\n",
              "      <td>Sat</td>\n",
              "      <td>yes</td>\n",
              "      <td>Mist</td>\n",
              "      <td>0.24</td>\n",
              "      <td>0.2879</td>\n",
              "      <td>0.75</td>\n",
              "      <td>0.0</td>\n",
              "      <td>0</td>\n",
              "      <td>1</td>\n",
              "      <td>1</td>\n",
              "    </tr>\n",
              "  </tbody>\n",
              "</table>\n",
              "</div>\n",
              "      <button class=\"colab-df-convert\" onclick=\"convertToInteractive('df-995ff914-9cd1-49c7-b095-d143f30615be')\"\n",
              "              title=\"Convert this dataframe to an interactive table.\"\n",
              "              style=\"display:none;\">\n",
              "        \n",
              "  <svg xmlns=\"http://www.w3.org/2000/svg\" height=\"24px\"viewBox=\"0 0 24 24\"\n",
              "       width=\"24px\">\n",
              "    <path d=\"M0 0h24v24H0V0z\" fill=\"none\"/>\n",
              "    <path d=\"M18.56 5.44l.94 2.06.94-2.06 2.06-.94-2.06-.94-.94-2.06-.94 2.06-2.06.94zm-11 1L8.5 8.5l.94-2.06 2.06-.94-2.06-.94L8.5 2.5l-.94 2.06-2.06.94zm10 10l.94 2.06.94-2.06 2.06-.94-2.06-.94-.94-2.06-.94 2.06-2.06.94z\"/><path d=\"M17.41 7.96l-1.37-1.37c-.4-.4-.92-.59-1.43-.59-.52 0-1.04.2-1.43.59L10.3 9.45l-7.72 7.72c-.78.78-.78 2.05 0 2.83L4 21.41c.39.39.9.59 1.41.59.51 0 1.02-.2 1.41-.59l7.78-7.78 2.81-2.81c.8-.78.8-2.07 0-2.86zM5.41 20L4 18.59l7.72-7.72 1.47 1.35L5.41 20z\"/>\n",
              "  </svg>\n",
              "      </button>\n",
              "      \n",
              "  <style>\n",
              "    .colab-df-container {\n",
              "      display:flex;\n",
              "      flex-wrap:wrap;\n",
              "      gap: 12px;\n",
              "    }\n",
              "\n",
              "    .colab-df-convert {\n",
              "      background-color: #E8F0FE;\n",
              "      border: none;\n",
              "      border-radius: 50%;\n",
              "      cursor: pointer;\n",
              "      display: none;\n",
              "      fill: #1967D2;\n",
              "      height: 32px;\n",
              "      padding: 0 0 0 0;\n",
              "      width: 32px;\n",
              "    }\n",
              "\n",
              "    .colab-df-convert:hover {\n",
              "      background-color: #E2EBFA;\n",
              "      box-shadow: 0px 1px 2px rgba(60, 64, 67, 0.3), 0px 1px 3px 1px rgba(60, 64, 67, 0.15);\n",
              "      fill: #174EA6;\n",
              "    }\n",
              "\n",
              "    [theme=dark] .colab-df-convert {\n",
              "      background-color: #3B4455;\n",
              "      fill: #D2E3FC;\n",
              "    }\n",
              "\n",
              "    [theme=dark] .colab-df-convert:hover {\n",
              "      background-color: #434B5C;\n",
              "      box-shadow: 0px 1px 3px 1px rgba(0, 0, 0, 0.15);\n",
              "      filter: drop-shadow(0px 1px 2px rgba(0, 0, 0, 0.3));\n",
              "      fill: #FFFFFF;\n",
              "    }\n",
              "  </style>\n",
              "\n",
              "      <script>\n",
              "        const buttonEl =\n",
              "          document.querySelector('#df-995ff914-9cd1-49c7-b095-d143f30615be button.colab-df-convert');\n",
              "        buttonEl.style.display =\n",
              "          google.colab.kernel.accessAllowed ? 'block' : 'none';\n",
              "\n",
              "        async function convertToInteractive(key) {\n",
              "          const element = document.querySelector('#df-995ff914-9cd1-49c7-b095-d143f30615be');\n",
              "          const dataTable =\n",
              "            await google.colab.kernel.invokeFunction('convertToInteractive',\n",
              "                                                     [key], {});\n",
              "          if (!dataTable) return;\n",
              "\n",
              "          const docLinkHtml = 'Like what you see? Visit the ' +\n",
              "            '<a target=\"_blank\" href=https://colab.research.google.com/notebooks/data_table.ipynb>data table notebook</a>'\n",
              "            + ' to learn more about interactive tables.';\n",
              "          element.innerHTML = '';\n",
              "          dataTable['output_type'] = 'display_data';\n",
              "          await google.colab.output.renderOutput(dataTable, element);\n",
              "          const docLink = document.createElement('div');\n",
              "          docLink.innerHTML = docLinkHtml;\n",
              "          element.appendChild(docLink);\n",
              "        }\n",
              "      </script>\n",
              "    </div>\n",
              "  </div>\n",
              "  "
            ]
          },
          "metadata": {},
          "execution_count": 7
        }
      ],
      "source": [
        "# BEGIN YOUR CODE\n",
        "# -----------------------\n",
        "factor_dict = {\n",
        "    'holiday' : {0 : 'no', 1 : 'yes'},\n",
        "    'weekday' : {0 : 'Sun', 1 : 'Mon', 2 : 'Tue', 3 : 'Wed', 4 : 'Thu', 5 : 'Fri', 6 : 'Sat'},\n",
        "    'workingday' : {0 : 'yes', 1 : 'no'},\n",
        "    'weathersit' : {0 : 'Clear', 1 : 'Mist', 2 : 'Light', 3 : 'Heavy'}\n",
        "}\n",
        "# -----------------------\n",
        "# END YOUR CODE\n",
        "bike.replace(factor_dict, inplace=True)\n",
        "bike.head()"
      ]
    },
    {
      "cell_type": "code",
      "execution_count": null,
      "metadata": {
        "colab": {
          "base_uri": "https://localhost:8080/"
        },
        "id": "YfuI7n-GxYfv",
        "outputId": "66abe427-e8a2-4510-fccb-1a76316329c7"
      },
      "outputs": [
        {
          "output_type": "stream",
          "name": "stdout",
          "text": [
            "Passed all unit tests!\n"
          ]
        }
      ],
      "source": [
        "assert isinstance(bike, pd.DataFrame) == True\n",
        "assert bike['holiday'].dtype == np.dtype('O')\n",
        "assert list(bike['holiday'].iloc[370:375]) == ['no', 'no', 'yes', 'yes', 'yes']\n",
        "assert bike['weekday'].dtype == np.dtype('O')\n",
        "assert bike['workingday'].dtype == np.dtype('O')\n",
        "assert bike['weathersit'].dtype == np.dtype('O')\n",
        "assert bike.shape == (17379, 17) or bike.shape == (17379, 18)\n",
        "assert list(bike['weekday'].iloc[::2000]) == ['Sat', 'Tue', 'Mon', 'Mon', 'Mon', 'Sun', 'Sun', 'Sat', 'Sun']\n",
        "\n",
        "print('Passed all unit tests!')"
      ]
    },
    {
      "cell_type": "markdown",
      "metadata": {
        "id": "poTCcgOuxYfv"
      },
      "source": [
        "### Question 1b\n",
        "\n",
        "How many entries in the data correspond to holidays?  Set the variable `num_holidays` to this value.\n",
        "\n",
        "**Hint:** ``value_counts``\n",
        "\n",
        "<!--\n",
        "BEGIN QUESTION\n",
        "name: q1b\n",
        "points: 1\n",
        "-->"
      ]
    },
    {
      "cell_type": "code",
      "execution_count": null,
      "metadata": {
        "id": "8e8hi5zexYfv",
        "colab": {
          "base_uri": "https://localhost:8080/"
        },
        "outputId": "180ffb1a-80d1-4e85-9d0d-1e0865fc149f"
      },
      "outputs": [
        {
          "output_type": "execute_result",
          "data": {
            "text/plain": [
              "500"
            ]
          },
          "metadata": {},
          "execution_count": 9
        }
      ],
      "source": [
        "num_holidays = bike['holiday'].value_counts()['yes']\n",
        "\n",
        "num_holidays"
      ]
    },
    {
      "cell_type": "code",
      "execution_count": null,
      "metadata": {
        "colab": {
          "base_uri": "https://localhost:8080/"
        },
        "id": "uYbgOHVSxYfw",
        "outputId": "526c597b-b0e3-4cbb-97a5-8a0689c53d88"
      },
      "outputs": [
        {
          "output_type": "stream",
          "name": "stdout",
          "text": [
            "Passed all unit tests!\n"
          ]
        }
      ],
      "source": [
        "assert num_holidays == 500\n",
        "assert 1 <= num_holidays <= 10000\n",
        "\n",
        "print('Passed all unit tests!')"
      ]
    },
    {
      "cell_type": "markdown",
      "metadata": {
        "id": "H2Pw2OGWxYfw"
      },
      "source": [
        "### Question 1c (Computing Daily Total Counts)\n",
        "\n",
        "The granularity of this data is at the hourly level.  However, for some of the analysis we will also want to compute daily statistics.  In particular, in the next few questions we will be analyzing the daily number of registered and unregistered users.\n",
        "\n",
        "Construct a data frame named `daily_counts` indexed by `dteday` with the following columns:\n",
        "* `casual`: total number of casual riders for each day\n",
        "* `registered`: total number of registered riders for each day\n",
        "* `workingday`: whether that day is a working day or not (`yes` or `no`)\n",
        "\n",
        "**Hint**: `groupby` and `agg`. For the `agg` method, please check the [documentation](https://pandas.pydata.org/pandas-docs/stable/generated/pandas.core.groupby.DataFrameGroupBy.agg.html) for examples on applying different aggregations per column. If you use the capability to do different aggregations by column, you can do this task with a single call to `groupby` and `agg`. For the `workingday` column we can take any of the values since we are grouping by the day, thus the value will be the same within each group. Take a look at the `'first'` or `'last'` aggregation functions.\n",
        "\n",
        "<!--\n",
        "BEGIN QUESTION\n",
        "name: q1c\n",
        "points: 2\n",
        "-->"
      ]
    },
    {
      "cell_type": "code",
      "execution_count": null,
      "metadata": {
        "colab": {
          "base_uri": "https://localhost:8080/",
          "height": 237
        },
        "id": "ASDUd2cQxYfw",
        "outputId": "a63f56bf-847c-4fab-9698-414f56a7590e"
      },
      "outputs": [
        {
          "output_type": "execute_result",
          "data": {
            "text/plain": [
              "            casual  registered workingday\n",
              "dteday                                   \n",
              "2011-01-01     331         654        yes\n",
              "2011-01-02     131         670        yes\n",
              "2011-01-03     120        1229         no\n",
              "2011-01-04     108        1454         no\n",
              "2011-01-05      82        1518         no"
            ],
            "text/html": [
              "\n",
              "  <div id=\"df-39bdb177-e03d-44fe-8d8d-7a0d6f180837\">\n",
              "    <div class=\"colab-df-container\">\n",
              "      <div>\n",
              "<style scoped>\n",
              "    .dataframe tbody tr th:only-of-type {\n",
              "        vertical-align: middle;\n",
              "    }\n",
              "\n",
              "    .dataframe tbody tr th {\n",
              "        vertical-align: top;\n",
              "    }\n",
              "\n",
              "    .dataframe thead th {\n",
              "        text-align: right;\n",
              "    }\n",
              "</style>\n",
              "<table border=\"1\" class=\"dataframe\">\n",
              "  <thead>\n",
              "    <tr style=\"text-align: right;\">\n",
              "      <th></th>\n",
              "      <th>casual</th>\n",
              "      <th>registered</th>\n",
              "      <th>workingday</th>\n",
              "    </tr>\n",
              "    <tr>\n",
              "      <th>dteday</th>\n",
              "      <th></th>\n",
              "      <th></th>\n",
              "      <th></th>\n",
              "    </tr>\n",
              "  </thead>\n",
              "  <tbody>\n",
              "    <tr>\n",
              "      <th>2011-01-01</th>\n",
              "      <td>331</td>\n",
              "      <td>654</td>\n",
              "      <td>yes</td>\n",
              "    </tr>\n",
              "    <tr>\n",
              "      <th>2011-01-02</th>\n",
              "      <td>131</td>\n",
              "      <td>670</td>\n",
              "      <td>yes</td>\n",
              "    </tr>\n",
              "    <tr>\n",
              "      <th>2011-01-03</th>\n",
              "      <td>120</td>\n",
              "      <td>1229</td>\n",
              "      <td>no</td>\n",
              "    </tr>\n",
              "    <tr>\n",
              "      <th>2011-01-04</th>\n",
              "      <td>108</td>\n",
              "      <td>1454</td>\n",
              "      <td>no</td>\n",
              "    </tr>\n",
              "    <tr>\n",
              "      <th>2011-01-05</th>\n",
              "      <td>82</td>\n",
              "      <td>1518</td>\n",
              "      <td>no</td>\n",
              "    </tr>\n",
              "  </tbody>\n",
              "</table>\n",
              "</div>\n",
              "      <button class=\"colab-df-convert\" onclick=\"convertToInteractive('df-39bdb177-e03d-44fe-8d8d-7a0d6f180837')\"\n",
              "              title=\"Convert this dataframe to an interactive table.\"\n",
              "              style=\"display:none;\">\n",
              "        \n",
              "  <svg xmlns=\"http://www.w3.org/2000/svg\" height=\"24px\"viewBox=\"0 0 24 24\"\n",
              "       width=\"24px\">\n",
              "    <path d=\"M0 0h24v24H0V0z\" fill=\"none\"/>\n",
              "    <path d=\"M18.56 5.44l.94 2.06.94-2.06 2.06-.94-2.06-.94-.94-2.06-.94 2.06-2.06.94zm-11 1L8.5 8.5l.94-2.06 2.06-.94-2.06-.94L8.5 2.5l-.94 2.06-2.06.94zm10 10l.94 2.06.94-2.06 2.06-.94-2.06-.94-.94-2.06-.94 2.06-2.06.94z\"/><path d=\"M17.41 7.96l-1.37-1.37c-.4-.4-.92-.59-1.43-.59-.52 0-1.04.2-1.43.59L10.3 9.45l-7.72 7.72c-.78.78-.78 2.05 0 2.83L4 21.41c.39.39.9.59 1.41.59.51 0 1.02-.2 1.41-.59l7.78-7.78 2.81-2.81c.8-.78.8-2.07 0-2.86zM5.41 20L4 18.59l7.72-7.72 1.47 1.35L5.41 20z\"/>\n",
              "  </svg>\n",
              "      </button>\n",
              "      \n",
              "  <style>\n",
              "    .colab-df-container {\n",
              "      display:flex;\n",
              "      flex-wrap:wrap;\n",
              "      gap: 12px;\n",
              "    }\n",
              "\n",
              "    .colab-df-convert {\n",
              "      background-color: #E8F0FE;\n",
              "      border: none;\n",
              "      border-radius: 50%;\n",
              "      cursor: pointer;\n",
              "      display: none;\n",
              "      fill: #1967D2;\n",
              "      height: 32px;\n",
              "      padding: 0 0 0 0;\n",
              "      width: 32px;\n",
              "    }\n",
              "\n",
              "    .colab-df-convert:hover {\n",
              "      background-color: #E2EBFA;\n",
              "      box-shadow: 0px 1px 2px rgba(60, 64, 67, 0.3), 0px 1px 3px 1px rgba(60, 64, 67, 0.15);\n",
              "      fill: #174EA6;\n",
              "    }\n",
              "\n",
              "    [theme=dark] .colab-df-convert {\n",
              "      background-color: #3B4455;\n",
              "      fill: #D2E3FC;\n",
              "    }\n",
              "\n",
              "    [theme=dark] .colab-df-convert:hover {\n",
              "      background-color: #434B5C;\n",
              "      box-shadow: 0px 1px 3px 1px rgba(0, 0, 0, 0.15);\n",
              "      filter: drop-shadow(0px 1px 2px rgba(0, 0, 0, 0.3));\n",
              "      fill: #FFFFFF;\n",
              "    }\n",
              "  </style>\n",
              "\n",
              "      <script>\n",
              "        const buttonEl =\n",
              "          document.querySelector('#df-39bdb177-e03d-44fe-8d8d-7a0d6f180837 button.colab-df-convert');\n",
              "        buttonEl.style.display =\n",
              "          google.colab.kernel.accessAllowed ? 'block' : 'none';\n",
              "\n",
              "        async function convertToInteractive(key) {\n",
              "          const element = document.querySelector('#df-39bdb177-e03d-44fe-8d8d-7a0d6f180837');\n",
              "          const dataTable =\n",
              "            await google.colab.kernel.invokeFunction('convertToInteractive',\n",
              "                                                     [key], {});\n",
              "          if (!dataTable) return;\n",
              "\n",
              "          const docLinkHtml = 'Like what you see? Visit the ' +\n",
              "            '<a target=\"_blank\" href=https://colab.research.google.com/notebooks/data_table.ipynb>data table notebook</a>'\n",
              "            + ' to learn more about interactive tables.';\n",
              "          element.innerHTML = '';\n",
              "          dataTable['output_type'] = 'display_data';\n",
              "          await google.colab.output.renderOutput(dataTable, element);\n",
              "          const docLink = document.createElement('div');\n",
              "          docLink.innerHTML = docLinkHtml;\n",
              "          element.appendChild(docLink);\n",
              "        }\n",
              "      </script>\n",
              "    </div>\n",
              "  </div>\n",
              "  "
            ]
          },
          "metadata": {},
          "execution_count": 11
        }
      ],
      "source": [
        "# BEGIN YOUR CODE\n",
        "# -----------------------\n",
        "daily_counts = bike.groupby(by=[\"dteday\"]).agg({'casual' : 'sum', 'registered' : 'sum', 'workingday' : 'first'})\n",
        "# -----------------------\n",
        "# END YOUR CODE\n",
        "daily_counts.head()"
      ]
    },
    {
      "cell_type": "code",
      "execution_count": null,
      "metadata": {
        "colab": {
          "base_uri": "https://localhost:8080/"
        },
        "id": "reViq-xCxYfw",
        "outputId": "bf54b887-88d9-4b76-c10f-ebfce2028e7f"
      },
      "outputs": [
        {
          "output_type": "stream",
          "name": "stdout",
          "text": [
            "Passed all unit tests!\n"
          ]
        }
      ],
      "source": [
        "assert np.round(daily_counts['casual'].mean()) == 848.0\n",
        "assert np.round(daily_counts['casual'].var()) == 471450.0\n",
        "assert np.round(daily_counts['registered'].mean()) == 3656.0\n",
        "assert np.round(daily_counts['registered'].var()) == 2434400.0\n",
        "assert sorted(list(daily_counts['workingday'].value_counts())) == [231, 500]\n",
        "\n",
        "print('Passed all unit tests!')"
      ]
    },
    {
      "cell_type": "markdown",
      "metadata": {
        "nbgrader": {
          "grade": false,
          "grade_id": "q3",
          "locked": true,
          "schema_version": 2,
          "solution": false
        },
        "id": "nQlQgQZpxYfw"
      },
      "source": [
        "# Part 2: Trump and Tweets\n",
        "\n",
        "In this part, we will work with Twitter data in order to analyze Donald Trump's tweets."
      ]
    },
    {
      "cell_type": "markdown",
      "metadata": {
        "id": "X4rbx1c0xYfw"
      },
      "source": [
        "Let's load data into our notebook. Run the cell below to read tweets from the json file into a list named `all_tweets`."
      ]
    },
    {
      "cell_type": "code",
      "execution_count": null,
      "metadata": {
        "id": "Cb0iHvYCxYfw"
      },
      "outputs": [],
      "source": [
        "with open(workspace_path+\"hw3-realdonaldtrump_tweets.json\", \"r\") as f:\n",
        "    all_tweets = json.load(f)"
      ]
    },
    {
      "cell_type": "markdown",
      "metadata": {
        "nbgrader": {
          "grade": false,
          "grade_id": "formatting-note",
          "locked": true,
          "schema_version": 2,
          "solution": false
        },
        "id": "ksPiTk5MxYfw"
      },
      "source": [
        "Here is what a typical tweet from `all_tweets` looks like:"
      ]
    },
    {
      "cell_type": "code",
      "execution_count": null,
      "metadata": {
        "nbgrader": {
          "grade": false,
          "grade_id": "pprint-old-tweets",
          "locked": true,
          "schema_version": 2,
          "solution": false
        },
        "scrolled": false,
        "colab": {
          "base_uri": "https://localhost:8080/"
        },
        "id": "naOz-FXpxYfw",
        "outputId": "24b7cd53-1375-44ee-ca52-4d5f18fe36a3"
      },
      "outputs": [
        {
          "output_type": "stream",
          "name": "stdout",
          "text": [
            "{'contributors': None,\n",
            " 'coordinates': None,\n",
            " 'created_at': 'Tue Oct 16 18:40:18 +0000 2018',\n",
            " 'display_text_range': [0, 174],\n",
            " 'entities': {'hashtags': [], 'symbols': [], 'urls': [], 'user_mentions': []},\n",
            " 'favorite_count': 52115,\n",
            " 'favorited': False,\n",
            " 'full_text': 'Just spoke with the Crown Prince of Saudi Arabia who totally '\n",
            "              'denied any knowledge of what took place in their Turkish '\n",
            "              'Consulate. He was with Secretary of State Mike Pompeo...',\n",
            " 'geo': None,\n",
            " 'id': 1052268011900555265,\n",
            " 'id_str': '1052268011900555265',\n",
            " 'in_reply_to_screen_name': None,\n",
            " 'in_reply_to_status_id': None,\n",
            " 'in_reply_to_status_id_str': None,\n",
            " 'in_reply_to_user_id': None,\n",
            " 'in_reply_to_user_id_str': None,\n",
            " 'is_quote_status': False,\n",
            " 'lang': 'en',\n",
            " 'place': None,\n",
            " 'retweet_count': 13493,\n",
            " 'retweeted': False,\n",
            " 'source': '<a href=\"http://twitter.com/download/iphone\" '\n",
            "           'rel=\"nofollow\">Twitter for iPhone</a>',\n",
            " 'truncated': False,\n",
            " 'user': {'contributors_enabled': False,\n",
            "          'created_at': 'Wed Mar 18 13:46:38 +0000 2009',\n",
            "          'default_profile': False,\n",
            "          'default_profile_image': False,\n",
            "          'description': '45th President of the United States of America🇺🇸',\n",
            "          'entities': {'description': {'urls': []},\n",
            "                       'url': {'urls': [{'display_url': 'Instagram.com/realDonaldTrump',\n",
            "                                         'expanded_url': 'http://www.Instagram.com/realDonaldTrump',\n",
            "                                         'indices': [0, 23],\n",
            "                                         'url': 'https://t.co/OMxB0x7xC5'}]}},\n",
            "          'favourites_count': 7,\n",
            "          'follow_request_sent': False,\n",
            "          'followers_count': 58311576,\n",
            "          'following': True,\n",
            "          'friends_count': 45,\n",
            "          'geo_enabled': True,\n",
            "          'has_extended_profile': False,\n",
            "          'id': 25073877,\n",
            "          'id_str': '25073877',\n",
            "          'is_translation_enabled': True,\n",
            "          'is_translator': False,\n",
            "          'lang': 'en',\n",
            "          'listed_count': 100264,\n",
            "          'location': 'Washington, DC',\n",
            "          'name': 'Donald J. Trump',\n",
            "          'notifications': False,\n",
            "          'profile_background_color': '6D5C18',\n",
            "          'profile_background_image_url': 'http://abs.twimg.com/images/themes/theme1/bg.png',\n",
            "          'profile_background_image_url_https': 'https://abs.twimg.com/images/themes/theme1/bg.png',\n",
            "          'profile_background_tile': True,\n",
            "          'profile_banner_url': 'https://pbs.twimg.com/profile_banners/25073877/1550087458',\n",
            "          'profile_image_url': 'http://pbs.twimg.com/profile_images/874276197357596672/kUuht00m_normal.jpg',\n",
            "          'profile_image_url_https': 'https://pbs.twimg.com/profile_images/874276197357596672/kUuht00m_normal.jpg',\n",
            "          'profile_link_color': '1B95E0',\n",
            "          'profile_sidebar_border_color': 'BDDCAD',\n",
            "          'profile_sidebar_fill_color': 'C5CEC0',\n",
            "          'profile_text_color': '333333',\n",
            "          'profile_use_background_image': True,\n",
            "          'protected': False,\n",
            "          'screen_name': 'realDonaldTrump',\n",
            "          'statuses_count': 40563,\n",
            "          'time_zone': None,\n",
            "          'translator_type': 'regular',\n",
            "          'url': 'https://t.co/OMxB0x7xC5',\n",
            "          'utc_offset': None,\n",
            "          'verified': True}}\n"
          ]
        }
      ],
      "source": [
        "pprint(all_tweets[-1])"
      ]
    },
    {
      "cell_type": "markdown",
      "metadata": {
        "nbgrader": {
          "grade": false,
          "grade_id": "q3b",
          "locked": true,
          "schema_version": 2,
          "solution": false
        },
        "id": "xDqJSAwZxYfx"
      },
      "source": [
        "## Question 2\n",
        "\n",
        "Construct a DataFrame called `trump` containing data from all the tweets stored in `all_tweets`. The index of the DataFrame should be the `ID` of each tweet (looks something like `907698529606541312`). It should have these columns:\n",
        "\n",
        "- `time`: The time the tweet was created encoded as a datetime object. (Use `pd.to_datetime` to encode the timestamp.)\n",
        "- `source`: The source device of the tweet.\n",
        "- `text`: The text of the tweet.\n",
        "- `retweet_count`: The retweet count of the tweet. \n",
        "\n",
        "Finally, **the resulting DataFrame should be sorted by the index.**\n",
        "\n",
        "**Warning:** *Some tweets will store the text in the `text` field and other will use the `full_text` field.*\n",
        "\n",
        "<!--\n",
        "BEGIN QUESTION\n",
        "name: q1\n",
        "points: 2\n",
        "-->"
      ]
    },
    {
      "cell_type": "code",
      "execution_count": null,
      "metadata": {
        "nbgrader": {
          "grade": false,
          "grade_id": "q3b-answer",
          "locked": false,
          "schema_version": 2,
          "solution": true
        },
        "scrolled": true,
        "tags": [
          "student"
        ],
        "colab": {
          "base_uri": "https://localhost:8080/",
          "height": 672
        },
        "id": "mTtwFi-uxYfx",
        "outputId": "64a1b83a-ba32-43c0-9b9f-e768a40ffd20"
      },
      "outputs": [
        {
          "output_type": "execute_result",
          "data": {
            "text/plain": [
              "                                         time  \\\n",
              "id                                              \n",
              "786204978629185536  2016-10-12 14:00:48+00:00   \n",
              "786201435486781440  2016-10-12 13:46:43+00:00   \n",
              "786189446274248704  2016-10-12 12:59:05+00:00   \n",
              "786054986534969344  2016-10-12 04:04:47+00:00   \n",
              "786007502639038464  2016-10-12 00:56:06+00:00   \n",
              "...                                       ...   \n",
              "1052344365442588673 2018-10-16 23:43:42+00:00   \n",
              "1052340597900627968 2018-10-16 23:28:44+00:00   \n",
              "1052270676982333442 2018-10-16 18:50:54+00:00   \n",
              "1052268013876064256 2018-10-16 18:40:19+00:00   \n",
              "1052268011900555265 2018-10-16 18:40:18+00:00   \n",
              "\n",
              "                                                                                                   source  \\\n",
              "id                                                                                                          \n",
              "786204978629185536     <a href=\"http://twitter.com/download/iphone\" rel=\"nofollow\">Twitter for iPhone</a>   \n",
              "786201435486781440     <a href=\"http://twitter.com/download/iphone\" rel=\"nofollow\">Twitter for iPhone</a>   \n",
              "786189446274248704   <a href=\"http://twitter.com/download/android\" rel=\"nofollow\">Twitter for Android</a>   \n",
              "786054986534969344     <a href=\"http://twitter.com/download/iphone\" rel=\"nofollow\">Twitter for iPhone</a>   \n",
              "786007502639038464     <a href=\"http://twitter.com/download/iphone\" rel=\"nofollow\">Twitter for iPhone</a>   \n",
              "...                                                                                                   ...   \n",
              "1052344365442588673    <a href=\"http://twitter.com/download/iphone\" rel=\"nofollow\">Twitter for iPhone</a>   \n",
              "1052340597900627968    <a href=\"http://twitter.com/download/iphone\" rel=\"nofollow\">Twitter for iPhone</a>   \n",
              "1052270676982333442    <a href=\"http://twitter.com/download/iphone\" rel=\"nofollow\">Twitter for iPhone</a>   \n",
              "1052268013876064256    <a href=\"http://twitter.com/download/iphone\" rel=\"nofollow\">Twitter for iPhone</a>   \n",
              "1052268011900555265    <a href=\"http://twitter.com/download/iphone\" rel=\"nofollow\">Twitter for iPhone</a>   \n",
              "\n",
              "                                                                                                                                                                     text  \\\n",
              "id                                                                                                                                                                          \n",
              "786204978629185536                                                                                        PAY TO PLAY POLITICS. \\n#CrookedHillary https://t.co/wjsl8ITVvk   \n",
              "786201435486781440                               Very little pick-up by the dishonest media of incredible information provided by WikiLeaks. So dishonest! Rigged system!   \n",
              "786189446274248704                       Crooked Hillary Clinton likes to talk about the things she will do but she has been there for 30 years - why didn't she do them?   \n",
              "786054986534969344                Thank you Florida- a MOVEMENT that has never been seen before and will never be seen again. Lets get out &amp;… https://t.co/t9XM9wFDZI   \n",
              "786007502639038464   Join me Thursday in Florida &amp; Ohio!\\nWest Palm Beach, FL at noon:\\nhttps://t.co/jwbZnQhxg9\\nCincinnati, OH this 7:30pm:\\nhttps://t.co/5w2UhalPIx   \n",
              "...                                                                                                                                                                   ...   \n",
              "1052344365442588673                                                                                                                                                   NaN   \n",
              "1052340597900627968                                                                                                                                                   NaN   \n",
              "1052270676982333442                                                                                                                                                   NaN   \n",
              "1052268013876064256                                                                                                                                                   NaN   \n",
              "1052268011900555265                                                                                                                                                   NaN   \n",
              "\n",
              "                     retweet_count  \n",
              "id                                  \n",
              "786204978629185536           24915  \n",
              "786201435486781440           22609  \n",
              "786189446274248704           18329  \n",
              "786054986534969344           18789  \n",
              "786007502639038464            7761  \n",
              "...                            ...  \n",
              "1052344365442588673           8053  \n",
              "1052340597900627968           7013  \n",
              "1052270676982333442          26394  \n",
              "1052268013876064256          10024  \n",
              "1052268011900555265          13493  \n",
              "\n",
              "[10370 rows x 4 columns]"
            ],
            "text/html": [
              "\n",
              "  <div id=\"df-90e79c69-b751-44c8-9715-406d1a8eda14\">\n",
              "    <div class=\"colab-df-container\">\n",
              "      <div>\n",
              "<style scoped>\n",
              "    .dataframe tbody tr th:only-of-type {\n",
              "        vertical-align: middle;\n",
              "    }\n",
              "\n",
              "    .dataframe tbody tr th {\n",
              "        vertical-align: top;\n",
              "    }\n",
              "\n",
              "    .dataframe thead th {\n",
              "        text-align: right;\n",
              "    }\n",
              "</style>\n",
              "<table border=\"1\" class=\"dataframe\">\n",
              "  <thead>\n",
              "    <tr style=\"text-align: right;\">\n",
              "      <th></th>\n",
              "      <th>time</th>\n",
              "      <th>source</th>\n",
              "      <th>text</th>\n",
              "      <th>retweet_count</th>\n",
              "    </tr>\n",
              "    <tr>\n",
              "      <th>id</th>\n",
              "      <th></th>\n",
              "      <th></th>\n",
              "      <th></th>\n",
              "      <th></th>\n",
              "    </tr>\n",
              "  </thead>\n",
              "  <tbody>\n",
              "    <tr>\n",
              "      <th>786204978629185536</th>\n",
              "      <td>2016-10-12 14:00:48+00:00</td>\n",
              "      <td>&lt;a href=\"http://twitter.com/download/iphone\" rel=\"nofollow\"&gt;Twitter for iPhone&lt;/a&gt;</td>\n",
              "      <td>PAY TO PLAY POLITICS. \\n#CrookedHillary https://t.co/wjsl8ITVvk</td>\n",
              "      <td>24915</td>\n",
              "    </tr>\n",
              "    <tr>\n",
              "      <th>786201435486781440</th>\n",
              "      <td>2016-10-12 13:46:43+00:00</td>\n",
              "      <td>&lt;a href=\"http://twitter.com/download/iphone\" rel=\"nofollow\"&gt;Twitter for iPhone&lt;/a&gt;</td>\n",
              "      <td>Very little pick-up by the dishonest media of incredible information provided by WikiLeaks. So dishonest! Rigged system!</td>\n",
              "      <td>22609</td>\n",
              "    </tr>\n",
              "    <tr>\n",
              "      <th>786189446274248704</th>\n",
              "      <td>2016-10-12 12:59:05+00:00</td>\n",
              "      <td>&lt;a href=\"http://twitter.com/download/android\" rel=\"nofollow\"&gt;Twitter for Android&lt;/a&gt;</td>\n",
              "      <td>Crooked Hillary Clinton likes to talk about the things she will do but she has been there for 30 years - why didn't she do them?</td>\n",
              "      <td>18329</td>\n",
              "    </tr>\n",
              "    <tr>\n",
              "      <th>786054986534969344</th>\n",
              "      <td>2016-10-12 04:04:47+00:00</td>\n",
              "      <td>&lt;a href=\"http://twitter.com/download/iphone\" rel=\"nofollow\"&gt;Twitter for iPhone&lt;/a&gt;</td>\n",
              "      <td>Thank you Florida- a MOVEMENT that has never been seen before and will never be seen again. Lets get out &amp;amp;… https://t.co/t9XM9wFDZI</td>\n",
              "      <td>18789</td>\n",
              "    </tr>\n",
              "    <tr>\n",
              "      <th>786007502639038464</th>\n",
              "      <td>2016-10-12 00:56:06+00:00</td>\n",
              "      <td>&lt;a href=\"http://twitter.com/download/iphone\" rel=\"nofollow\"&gt;Twitter for iPhone&lt;/a&gt;</td>\n",
              "      <td>Join me Thursday in Florida &amp;amp; Ohio!\\nWest Palm Beach, FL at noon:\\nhttps://t.co/jwbZnQhxg9\\nCincinnati, OH this 7:30pm:\\nhttps://t.co/5w2UhalPIx</td>\n",
              "      <td>7761</td>\n",
              "    </tr>\n",
              "    <tr>\n",
              "      <th>...</th>\n",
              "      <td>...</td>\n",
              "      <td>...</td>\n",
              "      <td>...</td>\n",
              "      <td>...</td>\n",
              "    </tr>\n",
              "    <tr>\n",
              "      <th>1052344365442588673</th>\n",
              "      <td>2018-10-16 23:43:42+00:00</td>\n",
              "      <td>&lt;a href=\"http://twitter.com/download/iphone\" rel=\"nofollow\"&gt;Twitter for iPhone&lt;/a&gt;</td>\n",
              "      <td>NaN</td>\n",
              "      <td>8053</td>\n",
              "    </tr>\n",
              "    <tr>\n",
              "      <th>1052340597900627968</th>\n",
              "      <td>2018-10-16 23:28:44+00:00</td>\n",
              "      <td>&lt;a href=\"http://twitter.com/download/iphone\" rel=\"nofollow\"&gt;Twitter for iPhone&lt;/a&gt;</td>\n",
              "      <td>NaN</td>\n",
              "      <td>7013</td>\n",
              "    </tr>\n",
              "    <tr>\n",
              "      <th>1052270676982333442</th>\n",
              "      <td>2018-10-16 18:50:54+00:00</td>\n",
              "      <td>&lt;a href=\"http://twitter.com/download/iphone\" rel=\"nofollow\"&gt;Twitter for iPhone&lt;/a&gt;</td>\n",
              "      <td>NaN</td>\n",
              "      <td>26394</td>\n",
              "    </tr>\n",
              "    <tr>\n",
              "      <th>1052268013876064256</th>\n",
              "      <td>2018-10-16 18:40:19+00:00</td>\n",
              "      <td>&lt;a href=\"http://twitter.com/download/iphone\" rel=\"nofollow\"&gt;Twitter for iPhone&lt;/a&gt;</td>\n",
              "      <td>NaN</td>\n",
              "      <td>10024</td>\n",
              "    </tr>\n",
              "    <tr>\n",
              "      <th>1052268011900555265</th>\n",
              "      <td>2018-10-16 18:40:18+00:00</td>\n",
              "      <td>&lt;a href=\"http://twitter.com/download/iphone\" rel=\"nofollow\"&gt;Twitter for iPhone&lt;/a&gt;</td>\n",
              "      <td>NaN</td>\n",
              "      <td>13493</td>\n",
              "    </tr>\n",
              "  </tbody>\n",
              "</table>\n",
              "<p>10370 rows × 4 columns</p>\n",
              "</div>\n",
              "      <button class=\"colab-df-convert\" onclick=\"convertToInteractive('df-90e79c69-b751-44c8-9715-406d1a8eda14')\"\n",
              "              title=\"Convert this dataframe to an interactive table.\"\n",
              "              style=\"display:none;\">\n",
              "        \n",
              "  <svg xmlns=\"http://www.w3.org/2000/svg\" height=\"24px\"viewBox=\"0 0 24 24\"\n",
              "       width=\"24px\">\n",
              "    <path d=\"M0 0h24v24H0V0z\" fill=\"none\"/>\n",
              "    <path d=\"M18.56 5.44l.94 2.06.94-2.06 2.06-.94-2.06-.94-.94-2.06-.94 2.06-2.06.94zm-11 1L8.5 8.5l.94-2.06 2.06-.94-2.06-.94L8.5 2.5l-.94 2.06-2.06.94zm10 10l.94 2.06.94-2.06 2.06-.94-2.06-.94-.94-2.06-.94 2.06-2.06.94z\"/><path d=\"M17.41 7.96l-1.37-1.37c-.4-.4-.92-.59-1.43-.59-.52 0-1.04.2-1.43.59L10.3 9.45l-7.72 7.72c-.78.78-.78 2.05 0 2.83L4 21.41c.39.39.9.59 1.41.59.51 0 1.02-.2 1.41-.59l7.78-7.78 2.81-2.81c.8-.78.8-2.07 0-2.86zM5.41 20L4 18.59l7.72-7.72 1.47 1.35L5.41 20z\"/>\n",
              "  </svg>\n",
              "      </button>\n",
              "      \n",
              "  <style>\n",
              "    .colab-df-container {\n",
              "      display:flex;\n",
              "      flex-wrap:wrap;\n",
              "      gap: 12px;\n",
              "    }\n",
              "\n",
              "    .colab-df-convert {\n",
              "      background-color: #E8F0FE;\n",
              "      border: none;\n",
              "      border-radius: 50%;\n",
              "      cursor: pointer;\n",
              "      display: none;\n",
              "      fill: #1967D2;\n",
              "      height: 32px;\n",
              "      padding: 0 0 0 0;\n",
              "      width: 32px;\n",
              "    }\n",
              "\n",
              "    .colab-df-convert:hover {\n",
              "      background-color: #E2EBFA;\n",
              "      box-shadow: 0px 1px 2px rgba(60, 64, 67, 0.3), 0px 1px 3px 1px rgba(60, 64, 67, 0.15);\n",
              "      fill: #174EA6;\n",
              "    }\n",
              "\n",
              "    [theme=dark] .colab-df-convert {\n",
              "      background-color: #3B4455;\n",
              "      fill: #D2E3FC;\n",
              "    }\n",
              "\n",
              "    [theme=dark] .colab-df-convert:hover {\n",
              "      background-color: #434B5C;\n",
              "      box-shadow: 0px 1px 3px 1px rgba(0, 0, 0, 0.15);\n",
              "      filter: drop-shadow(0px 1px 2px rgba(0, 0, 0, 0.3));\n",
              "      fill: #FFFFFF;\n",
              "    }\n",
              "  </style>\n",
              "\n",
              "      <script>\n",
              "        const buttonEl =\n",
              "          document.querySelector('#df-90e79c69-b751-44c8-9715-406d1a8eda14 button.colab-df-convert');\n",
              "        buttonEl.style.display =\n",
              "          google.colab.kernel.accessAllowed ? 'block' : 'none';\n",
              "\n",
              "        async function convertToInteractive(key) {\n",
              "          const element = document.querySelector('#df-90e79c69-b751-44c8-9715-406d1a8eda14');\n",
              "          const dataTable =\n",
              "            await google.colab.kernel.invokeFunction('convertToInteractive',\n",
              "                                                     [key], {});\n",
              "          if (!dataTable) return;\n",
              "\n",
              "          const docLinkHtml = 'Like what you see? Visit the ' +\n",
              "            '<a target=\"_blank\" href=https://colab.research.google.com/notebooks/data_table.ipynb>data table notebook</a>'\n",
              "            + ' to learn more about interactive tables.';\n",
              "          element.innerHTML = '';\n",
              "          dataTable['output_type'] = 'display_data';\n",
              "          await google.colab.output.renderOutput(dataTable, element);\n",
              "          const docLink = document.createElement('div');\n",
              "          docLink.innerHTML = docLinkHtml;\n",
              "          element.appendChild(docLink);\n",
              "        }\n",
              "      </script>\n",
              "    </div>\n",
              "  </div>\n",
              "  "
            ]
          },
          "metadata": {},
          "execution_count": 15
        }
      ],
      "source": [
        "# BEGIN YOUR CODE\n",
        "# -----------------------\n",
        "trump = pd.json_normalize(all_tweets).loc[:,['id', 'created_at', 'source', 'text', 'retweet_count']]\n",
        "trump = trump.set_index(keys=['id'], inplace=False, drop=True)\n",
        "trump = trump.rename(columns={'created_at' : 'time'})\n",
        "trump[\"time\"] = pd.to_datetime(trump[\"time\"])\n",
        "# -----------------------\n",
        "# END YOUR CODE\n",
        "trump"
      ]
    },
    {
      "cell_type": "code",
      "execution_count": null,
      "metadata": {
        "colab": {
          "base_uri": "https://localhost:8080/"
        },
        "id": "0sI8ZidpxYfx",
        "outputId": "6bfc252b-36a5-4cf2-f63d-5a7639af287f"
      },
      "outputs": [
        {
          "output_type": "stream",
          "name": "stdout",
          "text": [
            "Passed all unit tests!\n"
          ]
        }
      ],
      "source": [
        "assert isinstance(trump, pd.DataFrame)\n",
        "assert 10000 < trump.shape[0] < 11000\n",
        "assert trump.shape[1] >= 4\n",
        "assert 831846101179314177 in trump.index\n",
        "assert all(col in trump.columns for col in ['time', 'source', 'text', 'retweet_count'])\n",
        "assert np.sometrue([('Twitter for iPhone' in s) for s in trump['source'].unique()])\n",
        "assert trump['text'].dtype == np.dtype('O')\n",
        "assert trump['retweet_count'].dtype == np.dtype('int64')\n",
        "assert 753063644578144260 in trump.index\n",
        "\n",
        "print('Passed all unit tests!')"
      ]
    },
    {
      "cell_type": "markdown",
      "metadata": {
        "nbgrader": {
          "grade": false,
          "grade_id": "question4",
          "locked": true,
          "schema_version": 2,
          "solution": false
        },
        "id": "vEGi5K8yxYfx"
      },
      "source": [
        "In the following questions, we are going to find out the charateristics of Trump tweets and the devices used for the tweets.\n",
        "\n",
        "First let's examine the source field:"
      ]
    },
    {
      "cell_type": "code",
      "execution_count": null,
      "metadata": {
        "nbgrader": {
          "grade": false,
          "grade_id": "unique-sources",
          "locked": true,
          "schema_version": 2,
          "solution": false
        },
        "colab": {
          "base_uri": "https://localhost:8080/"
        },
        "id": "sNNelzqoxYfx",
        "outputId": "4c942b73-4c59-47b5-dbe9-24fec098d11f"
      },
      "outputs": [
        {
          "output_type": "execute_result",
          "data": {
            "text/plain": [
              "array(['<a href=\"http://twitter.com/download/iphone\" rel=\"nofollow\">Twitter for iPhone</a>',\n",
              "       '<a href=\"http://twitter.com/download/android\" rel=\"nofollow\">Twitter for Android</a>',\n",
              "       '<a href=\"http://twitter.com\" rel=\"nofollow\">Twitter Web Client</a>',\n",
              "       '<a href=\"https://studio.twitter.com\" rel=\"nofollow\">Media Studio</a>',\n",
              "       '<a href=\"http://twitter.com/#!/download/ipad\" rel=\"nofollow\">Twitter for iPad</a>',\n",
              "       '<a href=\"http://instagram.com\" rel=\"nofollow\">Instagram</a>',\n",
              "       '<a href=\"https://mobile.twitter.com\" rel=\"nofollow\">Mobile Web (M5)</a>',\n",
              "       '<a href=\"https://ads.twitter.com\" rel=\"nofollow\">Twitter Ads</a>',\n",
              "       '<a href=\"https://periscope.tv\" rel=\"nofollow\">Periscope</a>',\n",
              "       '<a href=\"https://studio.twitter.com\" rel=\"nofollow\">Twitter Media Studio</a>'],\n",
              "      dtype=object)"
            ]
          },
          "metadata": {},
          "execution_count": 17
        }
      ],
      "source": [
        "trump['source'].unique()"
      ]
    },
    {
      "cell_type": "markdown",
      "metadata": {
        "nbgrader": {
          "grade": false,
          "grade_id": "q4a",
          "locked": true,
          "schema_version": 2,
          "solution": false
        },
        "id": "wNGYZnbhxYfx"
      },
      "source": [
        "## Question 3\n",
        "\n",
        "Notice how sources like \"Twitter for Android\" or \"Instagram\" are surrounded by HTML tags. In the cell below, clean up the `source` field by removing the HTML tags from each `source` entry.\n",
        "\n",
        "**Hints:** \n",
        "* Use `trump['source'].str.replace` along with a regular expression.\n",
        "* You may find it helpful to experiment with regular expressions at [regex101.com](https://regex101.com/).\n",
        "\n",
        "<!--\n",
        "BEGIN QUESTION\n",
        "name: q2\n",
        "points: 1\n",
        "-->"
      ]
    },
    {
      "cell_type": "code",
      "execution_count": null,
      "metadata": {
        "nbgrader": {
          "grade": false,
          "grade_id": "q4a-answer",
          "locked": false,
          "schema_version": 2,
          "solution": true
        },
        "colab": {
          "base_uri": "https://localhost:8080/",
          "height": 672
        },
        "id": "Q30qPWvrxYfx",
        "outputId": "67772165-e39e-4c03-fef9-1daec51077f0"
      },
      "outputs": [
        {
          "output_type": "execute_result",
          "data": {
            "text/plain": [
              "                                         time               source  \\\n",
              "id                                                                   \n",
              "786204978629185536  2016-10-12 14:00:48+00:00   Twitter for iPhone   \n",
              "786201435486781440  2016-10-12 13:46:43+00:00   Twitter for iPhone   \n",
              "786189446274248704  2016-10-12 12:59:05+00:00  Twitter for Android   \n",
              "786054986534969344  2016-10-12 04:04:47+00:00   Twitter for iPhone   \n",
              "786007502639038464  2016-10-12 00:56:06+00:00   Twitter for iPhone   \n",
              "...                                       ...                  ...   \n",
              "1052344365442588673 2018-10-16 23:43:42+00:00   Twitter for iPhone   \n",
              "1052340597900627968 2018-10-16 23:28:44+00:00   Twitter for iPhone   \n",
              "1052270676982333442 2018-10-16 18:50:54+00:00   Twitter for iPhone   \n",
              "1052268013876064256 2018-10-16 18:40:19+00:00   Twitter for iPhone   \n",
              "1052268011900555265 2018-10-16 18:40:18+00:00   Twitter for iPhone   \n",
              "\n",
              "                                                                                                                                                                     text  \\\n",
              "id                                                                                                                                                                          \n",
              "786204978629185536                                                                                        PAY TO PLAY POLITICS. \\n#CrookedHillary https://t.co/wjsl8ITVvk   \n",
              "786201435486781440                               Very little pick-up by the dishonest media of incredible information provided by WikiLeaks. So dishonest! Rigged system!   \n",
              "786189446274248704                       Crooked Hillary Clinton likes to talk about the things she will do but she has been there for 30 years - why didn't she do them?   \n",
              "786054986534969344                Thank you Florida- a MOVEMENT that has never been seen before and will never be seen again. Lets get out &amp;… https://t.co/t9XM9wFDZI   \n",
              "786007502639038464   Join me Thursday in Florida &amp; Ohio!\\nWest Palm Beach, FL at noon:\\nhttps://t.co/jwbZnQhxg9\\nCincinnati, OH this 7:30pm:\\nhttps://t.co/5w2UhalPIx   \n",
              "...                                                                                                                                                                   ...   \n",
              "1052344365442588673                                                                                                                                                   NaN   \n",
              "1052340597900627968                                                                                                                                                   NaN   \n",
              "1052270676982333442                                                                                                                                                   NaN   \n",
              "1052268013876064256                                                                                                                                                   NaN   \n",
              "1052268011900555265                                                                                                                                                   NaN   \n",
              "\n",
              "                     retweet_count  \n",
              "id                                  \n",
              "786204978629185536           24915  \n",
              "786201435486781440           22609  \n",
              "786189446274248704           18329  \n",
              "786054986534969344           18789  \n",
              "786007502639038464            7761  \n",
              "...                            ...  \n",
              "1052344365442588673           8053  \n",
              "1052340597900627968           7013  \n",
              "1052270676982333442          26394  \n",
              "1052268013876064256          10024  \n",
              "1052268011900555265          13493  \n",
              "\n",
              "[10370 rows x 4 columns]"
            ],
            "text/html": [
              "\n",
              "  <div id=\"df-5e7dfece-b7be-42fa-b5dc-34c350e5bf9f\">\n",
              "    <div class=\"colab-df-container\">\n",
              "      <div>\n",
              "<style scoped>\n",
              "    .dataframe tbody tr th:only-of-type {\n",
              "        vertical-align: middle;\n",
              "    }\n",
              "\n",
              "    .dataframe tbody tr th {\n",
              "        vertical-align: top;\n",
              "    }\n",
              "\n",
              "    .dataframe thead th {\n",
              "        text-align: right;\n",
              "    }\n",
              "</style>\n",
              "<table border=\"1\" class=\"dataframe\">\n",
              "  <thead>\n",
              "    <tr style=\"text-align: right;\">\n",
              "      <th></th>\n",
              "      <th>time</th>\n",
              "      <th>source</th>\n",
              "      <th>text</th>\n",
              "      <th>retweet_count</th>\n",
              "    </tr>\n",
              "    <tr>\n",
              "      <th>id</th>\n",
              "      <th></th>\n",
              "      <th></th>\n",
              "      <th></th>\n",
              "      <th></th>\n",
              "    </tr>\n",
              "  </thead>\n",
              "  <tbody>\n",
              "    <tr>\n",
              "      <th>786204978629185536</th>\n",
              "      <td>2016-10-12 14:00:48+00:00</td>\n",
              "      <td>Twitter for iPhone</td>\n",
              "      <td>PAY TO PLAY POLITICS. \\n#CrookedHillary https://t.co/wjsl8ITVvk</td>\n",
              "      <td>24915</td>\n",
              "    </tr>\n",
              "    <tr>\n",
              "      <th>786201435486781440</th>\n",
              "      <td>2016-10-12 13:46:43+00:00</td>\n",
              "      <td>Twitter for iPhone</td>\n",
              "      <td>Very little pick-up by the dishonest media of incredible information provided by WikiLeaks. So dishonest! Rigged system!</td>\n",
              "      <td>22609</td>\n",
              "    </tr>\n",
              "    <tr>\n",
              "      <th>786189446274248704</th>\n",
              "      <td>2016-10-12 12:59:05+00:00</td>\n",
              "      <td>Twitter for Android</td>\n",
              "      <td>Crooked Hillary Clinton likes to talk about the things she will do but she has been there for 30 years - why didn't she do them?</td>\n",
              "      <td>18329</td>\n",
              "    </tr>\n",
              "    <tr>\n",
              "      <th>786054986534969344</th>\n",
              "      <td>2016-10-12 04:04:47+00:00</td>\n",
              "      <td>Twitter for iPhone</td>\n",
              "      <td>Thank you Florida- a MOVEMENT that has never been seen before and will never be seen again. Lets get out &amp;amp;… https://t.co/t9XM9wFDZI</td>\n",
              "      <td>18789</td>\n",
              "    </tr>\n",
              "    <tr>\n",
              "      <th>786007502639038464</th>\n",
              "      <td>2016-10-12 00:56:06+00:00</td>\n",
              "      <td>Twitter for iPhone</td>\n",
              "      <td>Join me Thursday in Florida &amp;amp; Ohio!\\nWest Palm Beach, FL at noon:\\nhttps://t.co/jwbZnQhxg9\\nCincinnati, OH this 7:30pm:\\nhttps://t.co/5w2UhalPIx</td>\n",
              "      <td>7761</td>\n",
              "    </tr>\n",
              "    <tr>\n",
              "      <th>...</th>\n",
              "      <td>...</td>\n",
              "      <td>...</td>\n",
              "      <td>...</td>\n",
              "      <td>...</td>\n",
              "    </tr>\n",
              "    <tr>\n",
              "      <th>1052344365442588673</th>\n",
              "      <td>2018-10-16 23:43:42+00:00</td>\n",
              "      <td>Twitter for iPhone</td>\n",
              "      <td>NaN</td>\n",
              "      <td>8053</td>\n",
              "    </tr>\n",
              "    <tr>\n",
              "      <th>1052340597900627968</th>\n",
              "      <td>2018-10-16 23:28:44+00:00</td>\n",
              "      <td>Twitter for iPhone</td>\n",
              "      <td>NaN</td>\n",
              "      <td>7013</td>\n",
              "    </tr>\n",
              "    <tr>\n",
              "      <th>1052270676982333442</th>\n",
              "      <td>2018-10-16 18:50:54+00:00</td>\n",
              "      <td>Twitter for iPhone</td>\n",
              "      <td>NaN</td>\n",
              "      <td>26394</td>\n",
              "    </tr>\n",
              "    <tr>\n",
              "      <th>1052268013876064256</th>\n",
              "      <td>2018-10-16 18:40:19+00:00</td>\n",
              "      <td>Twitter for iPhone</td>\n",
              "      <td>NaN</td>\n",
              "      <td>10024</td>\n",
              "    </tr>\n",
              "    <tr>\n",
              "      <th>1052268011900555265</th>\n",
              "      <td>2018-10-16 18:40:18+00:00</td>\n",
              "      <td>Twitter for iPhone</td>\n",
              "      <td>NaN</td>\n",
              "      <td>13493</td>\n",
              "    </tr>\n",
              "  </tbody>\n",
              "</table>\n",
              "<p>10370 rows × 4 columns</p>\n",
              "</div>\n",
              "      <button class=\"colab-df-convert\" onclick=\"convertToInteractive('df-5e7dfece-b7be-42fa-b5dc-34c350e5bf9f')\"\n",
              "              title=\"Convert this dataframe to an interactive table.\"\n",
              "              style=\"display:none;\">\n",
              "        \n",
              "  <svg xmlns=\"http://www.w3.org/2000/svg\" height=\"24px\"viewBox=\"0 0 24 24\"\n",
              "       width=\"24px\">\n",
              "    <path d=\"M0 0h24v24H0V0z\" fill=\"none\"/>\n",
              "    <path d=\"M18.56 5.44l.94 2.06.94-2.06 2.06-.94-2.06-.94-.94-2.06-.94 2.06-2.06.94zm-11 1L8.5 8.5l.94-2.06 2.06-.94-2.06-.94L8.5 2.5l-.94 2.06-2.06.94zm10 10l.94 2.06.94-2.06 2.06-.94-2.06-.94-.94-2.06-.94 2.06-2.06.94z\"/><path d=\"M17.41 7.96l-1.37-1.37c-.4-.4-.92-.59-1.43-.59-.52 0-1.04.2-1.43.59L10.3 9.45l-7.72 7.72c-.78.78-.78 2.05 0 2.83L4 21.41c.39.39.9.59 1.41.59.51 0 1.02-.2 1.41-.59l7.78-7.78 2.81-2.81c.8-.78.8-2.07 0-2.86zM5.41 20L4 18.59l7.72-7.72 1.47 1.35L5.41 20z\"/>\n",
              "  </svg>\n",
              "      </button>\n",
              "      \n",
              "  <style>\n",
              "    .colab-df-container {\n",
              "      display:flex;\n",
              "      flex-wrap:wrap;\n",
              "      gap: 12px;\n",
              "    }\n",
              "\n",
              "    .colab-df-convert {\n",
              "      background-color: #E8F0FE;\n",
              "      border: none;\n",
              "      border-radius: 50%;\n",
              "      cursor: pointer;\n",
              "      display: none;\n",
              "      fill: #1967D2;\n",
              "      height: 32px;\n",
              "      padding: 0 0 0 0;\n",
              "      width: 32px;\n",
              "    }\n",
              "\n",
              "    .colab-df-convert:hover {\n",
              "      background-color: #E2EBFA;\n",
              "      box-shadow: 0px 1px 2px rgba(60, 64, 67, 0.3), 0px 1px 3px 1px rgba(60, 64, 67, 0.15);\n",
              "      fill: #174EA6;\n",
              "    }\n",
              "\n",
              "    [theme=dark] .colab-df-convert {\n",
              "      background-color: #3B4455;\n",
              "      fill: #D2E3FC;\n",
              "    }\n",
              "\n",
              "    [theme=dark] .colab-df-convert:hover {\n",
              "      background-color: #434B5C;\n",
              "      box-shadow: 0px 1px 3px 1px rgba(0, 0, 0, 0.15);\n",
              "      filter: drop-shadow(0px 1px 2px rgba(0, 0, 0, 0.3));\n",
              "      fill: #FFFFFF;\n",
              "    }\n",
              "  </style>\n",
              "\n",
              "      <script>\n",
              "        const buttonEl =\n",
              "          document.querySelector('#df-5e7dfece-b7be-42fa-b5dc-34c350e5bf9f button.colab-df-convert');\n",
              "        buttonEl.style.display =\n",
              "          google.colab.kernel.accessAllowed ? 'block' : 'none';\n",
              "\n",
              "        async function convertToInteractive(key) {\n",
              "          const element = document.querySelector('#df-5e7dfece-b7be-42fa-b5dc-34c350e5bf9f');\n",
              "          const dataTable =\n",
              "            await google.colab.kernel.invokeFunction('convertToInteractive',\n",
              "                                                     [key], {});\n",
              "          if (!dataTable) return;\n",
              "\n",
              "          const docLinkHtml = 'Like what you see? Visit the ' +\n",
              "            '<a target=\"_blank\" href=https://colab.research.google.com/notebooks/data_table.ipynb>data table notebook</a>'\n",
              "            + ' to learn more about interactive tables.';\n",
              "          element.innerHTML = '';\n",
              "          dataTable['output_type'] = 'display_data';\n",
              "          await google.colab.output.renderOutput(dataTable, element);\n",
              "          const docLink = document.createElement('div');\n",
              "          docLink.innerHTML = docLinkHtml;\n",
              "          element.appendChild(docLink);\n",
              "        }\n",
              "      </script>\n",
              "    </div>\n",
              "  </div>\n",
              "  "
            ]
          },
          "metadata": {},
          "execution_count": 18
        }
      ],
      "source": [
        "# BEGIN YOUR CODE\n",
        "# -----------------------\n",
        "trump['source'] = trump['source'].str.replace('<[^>]+>', r'', regex=True)\n",
        "# -----------------------\n",
        "# END YOUR CODE\n",
        "\n",
        "trump"
      ]
    },
    {
      "cell_type": "code",
      "execution_count": null,
      "metadata": {
        "colab": {
          "base_uri": "https://localhost:8080/"
        },
        "id": "S-ZRGcICxYfx",
        "outputId": "f26e9b9c-9b6c-4773-aa94-822190bf7491"
      },
      "outputs": [
        {
          "output_type": "stream",
          "name": "stdout",
          "text": [
            "Passed all unit tests!\n"
          ]
        }
      ],
      "source": [
        "assert set(trump['source'].unique()) == set(['Twitter for Android', 'Twitter for iPhone', 'Twitter Web Client',\n",
        "       'Mobile Web (M5)', 'Instagram', 'Twitter for iPad', 'Media Studio',\n",
        "       'Periscope', 'Twitter Ads', 'Twitter Media Studio'])\n",
        "\n",
        "print('Passed all unit tests!')"
      ]
    },
    {
      "cell_type": "markdown",
      "metadata": {
        "nbgrader": {
          "grade": false,
          "grade_id": "note-about-device-usage",
          "locked": true,
          "schema_version": 2,
          "solution": false
        },
        "id": "dIHHU6l-xYfx"
      },
      "source": [
        "In the following plot, we see that there are two device types that are more commonly used than others."
      ]
    },
    {
      "cell_type": "code",
      "execution_count": null,
      "metadata": {
        "nbgrader": {
          "grade": false,
          "grade_id": "device-usage-plot",
          "locked": true,
          "schema_version": 2,
          "solution": false
        },
        "colab": {
          "base_uri": "https://localhost:8080/",
          "height": 449
        },
        "id": "XFMAutqJxYfx",
        "outputId": "e4065444-7ff1-4bbe-cb42-5be5b2e9558c"
      },
      "outputs": [
        {
          "output_type": "display_data",
          "data": {
            "text/plain": [
              "<Figure size 432x288 with 1 Axes>"
            ],
            "image/png": "[encoded data removed]"
          },
          "metadata": {
            "needs_background": "light"
          }
        }
      ],
      "source": [
        "plt.figure(figsize=(6, 4))\n",
        "trump['source'].value_counts().plot(kind=\"bar\")\n",
        "plt.ylabel(\"Number of Tweets\")\n",
        "plt.title(\"Number of Tweets by Source\");"
      ]
    },
    {
      "cell_type": "markdown",
      "metadata": {
        "nbgrader": {
          "grade": false,
          "grade_id": "q5",
          "locked": true,
          "schema_version": 2,
          "solution": false
        },
        "id": "a8f_kNOKxYfx"
      },
      "source": [
        "## Question 4\n",
        "\n",
        "Now that we have cleaned up the `source` field, let's now look at which device Trump has used over the entire time period of this dataset.\n",
        "\n",
        "To examine the distribution of dates we will convert the date to a fractional year that can be plotted as a distribution.\n",
        "\n",
        "(Code borrowed from https://stackoverflow.com/questions/6451655/python-how-to-convert-datetime-dates-to-decimal-years)"
      ]
    },
    {
      "cell_type": "code",
      "execution_count": null,
      "metadata": {
        "nbgrader": {
          "grade": false,
          "grade_id": "fractional-year",
          "locked": true,
          "schema_version": 2,
          "solution": false
        },
        "id": "QElbROFqxYfx"
      },
      "outputs": [],
      "source": [
        "import datetime\n",
        "def year_fraction(date):\n",
        "    start = datetime.date(date.year, 1, 1).toordinal()\n",
        "    year_length = datetime.date(date.year+1, 1, 1).toordinal() - start\n",
        "    return date.year + float(date.toordinal() - start) / year_length\n",
        "\n",
        "trump['year'] = trump['time'].apply(year_fraction)"
      ]
    },
    {
      "cell_type": "markdown",
      "metadata": {
        "nbgrader": {
          "grade": false,
          "grade_id": "q5a",
          "locked": true,
          "schema_version": 2,
          "solution": false
        },
        "id": "Fp-A99mkxYfy"
      },
      "source": [
        "Now, use `sns.distplot` to overlay the distributions of Trump's 2 most frequently used web technologies over the years.\n",
        "\n",
        "<!--\n",
        "BEGIN QUESTION\n",
        "name: q3\n",
        "points: 2\n",
        "manual: true\n",
        "-->\n",
        "<!-- EXPORT TO PDF -->"
      ]
    },
    {
      "cell_type": "code",
      "execution_count": null,
      "metadata": {
        "nbgrader": {
          "grade": true,
          "grade_id": "q5a-answer",
          "locked": false,
          "points": 2,
          "schema_version": 2,
          "solution": true
        },
        "scrolled": false,
        "colab": {
          "base_uri": "https://localhost:8080/",
          "height": 412
        },
        "id": "LTLKP3TBxYfy",
        "outputId": "852ae327-2dbe-4474-931f-4c60d3915c31"
      },
      "outputs": [
        {
          "output_type": "stream",
          "name": "stderr",
          "text": [
            "/usr/local/lib/python3.7/dist-packages/seaborn/distributions.py:2619: FutureWarning: `distplot` is a deprecated function and will be removed in a future version. Please adapt your code to use either `displot` (a figure-level function with similar flexibility) or `histplot` (an axes-level function for histograms).\n",
            "  warnings.warn(msg, FutureWarning)\n",
            "/usr/local/lib/python3.7/dist-packages/seaborn/distributions.py:2619: FutureWarning: `distplot` is a deprecated function and will be removed in a future version. Please adapt your code to use either `displot` (a figure-level function with similar flexibility) or `histplot` (an axes-level function for histograms).\n",
            "  warnings.warn(msg, FutureWarning)\n"
          ]
        },
        {
          "output_type": "execute_result",
          "data": {
            "text/plain": [
              "<matplotlib.legend.Legend at 0x7f342e729990>"
            ]
          },
          "metadata": {},
          "execution_count": 22
        },
        {
          "output_type": "display_data",
          "data": {
            "text/plain": [
              "<Figure size 432x288 with 1 Axes>"
            ],
            "image/png": "[encoded data removed]"
          },
          "metadata": {
            "needs_background": "light"
          }
        }
      ],
      "source": [
        "# BEGIN YOUR CODE\n",
        "# -----------------------\n",
        "top_devices = {'Twitter for iPhone' : 'blue', 'Twitter for Android' : 'red'}\n",
        "\n",
        "for device in top_devices:\n",
        "  subset = trump[trump['source'] == device]\n",
        "  sns.distplot(subset['year'],kde=True, color = top_devices[device], label=device)\n",
        "\n",
        "plt.legend(prop={'size': 14})\n",
        "# -----------------------\n",
        "# END YOUR CODE"
      ]
    },
    {
      "cell_type": "markdown",
      "metadata": {
        "nbgrader": {
          "grade": false,
          "grade_id": "q4b",
          "locked": true,
          "schema_version": 2,
          "solution": false
        },
        "id": "dIcyt69nxYfy"
      },
      "source": [
        "## Question 5\n",
        "\n",
        "\n",
        "Is there a difference between Trump's tweet behavior across these devices? We will attempt to answer this question in our subsequent analysis.\n",
        "\n",
        "First, we'll take a look at whether Trump's tweets from an Android device come at different times than his tweets from an iPhone. Note that Twitter gives us his tweets in the [UTC timezone](https://www.wikiwand.com/en/List_of_UTC_time_offsets) (notice the `+0000` in the first few tweets)."
      ]
    },
    {
      "cell_type": "code",
      "execution_count": null,
      "metadata": {
        "nbgrader": {
          "grade": false,
          "grade_id": "tweet-created-at",
          "locked": true,
          "schema_version": 2,
          "solution": false
        },
        "colab": {
          "base_uri": "https://localhost:8080/"
        },
        "id": "lDlxl9_3xYfy",
        "outputId": "2b719a17-a84a-46f2-8717-30dd6eb10707"
      },
      "outputs": [
        {
          "output_type": "stream",
          "name": "stdout",
          "text": [
            "Wed Oct 12 14:00:48 +0000 2016\n",
            "Wed Oct 12 13:46:43 +0000 2016\n",
            "Wed Oct 12 12:59:05 +0000 2016\n"
          ]
        }
      ],
      "source": [
        "for tweet in all_tweets[:3]:\n",
        "    print(tweet['created_at'])"
      ]
    },
    {
      "cell_type": "markdown",
      "metadata": {
        "nbgrader": {
          "grade": false,
          "grade_id": "convert-to-est-justification",
          "locked": true,
          "schema_version": 2,
          "solution": false
        },
        "id": "__EWJ5tgxYfy"
      },
      "source": [
        "We'll convert the tweet times to US Eastern Time, the timezone of New York and Washington D.C., since those are the places we would expect the most tweet activity from Trump."
      ]
    },
    {
      "cell_type": "code",
      "execution_count": null,
      "metadata": {
        "nbgrader": {
          "grade": false,
          "grade_id": "convert-to-est",
          "locked": true,
          "schema_version": 2,
          "solution": false
        },
        "colab": {
          "base_uri": "https://localhost:8080/",
          "height": 368
        },
        "id": "P1atUmOZxYfy",
        "outputId": "fc2ba5b9-162e-4ae3-ea25-18ee7bf58618"
      },
      "outputs": [
        {
          "output_type": "execute_result",
          "data": {
            "text/plain": [
              "                                        time               source  \\\n",
              "id                                                                  \n",
              "786204978629185536 2016-10-12 14:00:48+00:00   Twitter for iPhone   \n",
              "786201435486781440 2016-10-12 13:46:43+00:00   Twitter for iPhone   \n",
              "786189446274248704 2016-10-12 12:59:05+00:00  Twitter for Android   \n",
              "786054986534969344 2016-10-12 04:04:47+00:00   Twitter for iPhone   \n",
              "786007502639038464 2016-10-12 00:56:06+00:00   Twitter for iPhone   \n",
              "\n",
              "                                                                                                                                                                    text  \\\n",
              "id                                                                                                                                                                         \n",
              "786204978629185536                                                                                       PAY TO PLAY POLITICS. \\n#CrookedHillary https://t.co/wjsl8ITVvk   \n",
              "786201435486781440                              Very little pick-up by the dishonest media of incredible information provided by WikiLeaks. So dishonest! Rigged system!   \n",
              "786189446274248704                      Crooked Hillary Clinton likes to talk about the things she will do but she has been there for 30 years - why didn't she do them?   \n",
              "786054986534969344               Thank you Florida- a MOVEMENT that has never been seen before and will never be seen again. Lets get out &amp;… https://t.co/t9XM9wFDZI   \n",
              "786007502639038464  Join me Thursday in Florida &amp; Ohio!\\nWest Palm Beach, FL at noon:\\nhttps://t.co/jwbZnQhxg9\\nCincinnati, OH this 7:30pm:\\nhttps://t.co/5w2UhalPIx   \n",
              "\n",
              "                    retweet_count         year                  est_time  \n",
              "id                                                                        \n",
              "786204978629185536          24915  2016.778689 2016-10-12 09:00:48-05:00  \n",
              "786201435486781440          22609  2016.778689 2016-10-12 08:46:43-05:00  \n",
              "786189446274248704          18329  2016.778689 2016-10-12 07:59:05-05:00  \n",
              "786054986534969344          18789  2016.778689 2016-10-11 23:04:47-05:00  \n",
              "786007502639038464           7761  2016.778689 2016-10-11 19:56:06-05:00  "
            ],
            "text/html": [
              "\n",
              "  <div id=\"df-4e58c55b-f2aa-4600-8038-713f0fe8e190\">\n",
              "    <div class=\"colab-df-container\">\n",
              "      <div>\n",
              "<style scoped>\n",
              "    .dataframe tbody tr th:only-of-type {\n",
              "        vertical-align: middle;\n",
              "    }\n",
              "\n",
              "    .dataframe tbody tr th {\n",
              "        vertical-align: top;\n",
              "    }\n",
              "\n",
              "    .dataframe thead th {\n",
              "        text-align: right;\n",
              "    }\n",
              "</style>\n",
              "<table border=\"1\" class=\"dataframe\">\n",
              "  <thead>\n",
              "    <tr style=\"text-align: right;\">\n",
              "      <th></th>\n",
              "      <th>time</th>\n",
              "      <th>source</th>\n",
              "      <th>text</th>\n",
              "      <th>retweet_count</th>\n",
              "      <th>year</th>\n",
              "      <th>est_time</th>\n",
              "    </tr>\n",
              "    <tr>\n",
              "      <th>id</th>\n",
              "      <th></th>\n",
              "      <th></th>\n",
              "      <th></th>\n",
              "      <th></th>\n",
              "      <th></th>\n",
              "      <th></th>\n",
              "    </tr>\n",
              "  </thead>\n",
              "  <tbody>\n",
              "    <tr>\n",
              "      <th>786204978629185536</th>\n",
              "      <td>2016-10-12 14:00:48+00:00</td>\n",
              "      <td>Twitter for iPhone</td>\n",
              "      <td>PAY TO PLAY POLITICS. \\n#CrookedHillary https://t.co/wjsl8ITVvk</td>\n",
              "      <td>24915</td>\n",
              "      <td>2016.778689</td>\n",
              "      <td>2016-10-12 09:00:48-05:00</td>\n",
              "    </tr>\n",
              "    <tr>\n",
              "      <th>786201435486781440</th>\n",
              "      <td>2016-10-12 13:46:43+00:00</td>\n",
              "      <td>Twitter for iPhone</td>\n",
              "      <td>Very little pick-up by the dishonest media of incredible information provided by WikiLeaks. So dishonest! Rigged system!</td>\n",
              "      <td>22609</td>\n",
              "      <td>2016.778689</td>\n",
              "      <td>2016-10-12 08:46:43-05:00</td>\n",
              "    </tr>\n",
              "    <tr>\n",
              "      <th>786189446274248704</th>\n",
              "      <td>2016-10-12 12:59:05+00:00</td>\n",
              "      <td>Twitter for Android</td>\n",
              "      <td>Crooked Hillary Clinton likes to talk about the things she will do but she has been there for 30 years - why didn't she do them?</td>\n",
              "      <td>18329</td>\n",
              "      <td>2016.778689</td>\n",
              "      <td>2016-10-12 07:59:05-05:00</td>\n",
              "    </tr>\n",
              "    <tr>\n",
              "      <th>786054986534969344</th>\n",
              "      <td>2016-10-12 04:04:47+00:00</td>\n",
              "      <td>Twitter for iPhone</td>\n",
              "      <td>Thank you Florida- a MOVEMENT that has never been seen before and will never be seen again. Lets get out &amp;amp;… https://t.co/t9XM9wFDZI</td>\n",
              "      <td>18789</td>\n",
              "      <td>2016.778689</td>\n",
              "      <td>2016-10-11 23:04:47-05:00</td>\n",
              "    </tr>\n",
              "    <tr>\n",
              "      <th>786007502639038464</th>\n",
              "      <td>2016-10-12 00:56:06+00:00</td>\n",
              "      <td>Twitter for iPhone</td>\n",
              "      <td>Join me Thursday in Florida &amp;amp; Ohio!\\nWest Palm Beach, FL at noon:\\nhttps://t.co/jwbZnQhxg9\\nCincinnati, OH this 7:30pm:\\nhttps://t.co/5w2UhalPIx</td>\n",
              "      <td>7761</td>\n",
              "      <td>2016.778689</td>\n",
              "      <td>2016-10-11 19:56:06-05:00</td>\n",
              "    </tr>\n",
              "  </tbody>\n",
              "</table>\n",
              "</div>\n",
              "      <button class=\"colab-df-convert\" onclick=\"convertToInteractive('df-4e58c55b-f2aa-4600-8038-713f0fe8e190')\"\n",
              "              title=\"Convert this dataframe to an interactive table.\"\n",
              "              style=\"display:none;\">\n",
              "        \n",
              "  <svg xmlns=\"http://www.w3.org/2000/svg\" height=\"24px\"viewBox=\"0 0 24 24\"\n",
              "       width=\"24px\">\n",
              "    <path d=\"M0 0h24v24H0V0z\" fill=\"none\"/>\n",
              "    <path d=\"M18.56 5.44l.94 2.06.94-2.06 2.06-.94-2.06-.94-.94-2.06-.94 2.06-2.06.94zm-11 1L8.5 8.5l.94-2.06 2.06-.94-2.06-.94L8.5 2.5l-.94 2.06-2.06.94zm10 10l.94 2.06.94-2.06 2.06-.94-2.06-.94-.94-2.06-.94 2.06-2.06.94z\"/><path d=\"M17.41 7.96l-1.37-1.37c-.4-.4-.92-.59-1.43-.59-.52 0-1.04.2-1.43.59L10.3 9.45l-7.72 7.72c-.78.78-.78 2.05 0 2.83L4 21.41c.39.39.9.59 1.41.59.51 0 1.02-.2 1.41-.59l7.78-7.78 2.81-2.81c.8-.78.8-2.07 0-2.86zM5.41 20L4 18.59l7.72-7.72 1.47 1.35L5.41 20z\"/>\n",
              "  </svg>\n",
              "      </button>\n",
              "      \n",
              "  <style>\n",
              "    .colab-df-container {\n",
              "      display:flex;\n",
              "      flex-wrap:wrap;\n",
              "      gap: 12px;\n",
              "    }\n",
              "\n",
              "    .colab-df-convert {\n",
              "      background-color: #E8F0FE;\n",
              "      border: none;\n",
              "      border-radius: 50%;\n",
              "      cursor: pointer;\n",
              "      display: none;\n",
              "      fill: #1967D2;\n",
              "      height: 32px;\n",
              "      padding: 0 0 0 0;\n",
              "      width: 32px;\n",
              "    }\n",
              "\n",
              "    .colab-df-convert:hover {\n",
              "      background-color: #E2EBFA;\n",
              "      box-shadow: 0px 1px 2px rgba(60, 64, 67, 0.3), 0px 1px 3px 1px rgba(60, 64, 67, 0.15);\n",
              "      fill: #174EA6;\n",
              "    }\n",
              "\n",
              "    [theme=dark] .colab-df-convert {\n",
              "      background-color: #3B4455;\n",
              "      fill: #D2E3FC;\n",
              "    }\n",
              "\n",
              "    [theme=dark] .colab-df-convert:hover {\n",
              "      background-color: #434B5C;\n",
              "      box-shadow: 0px 1px 3px 1px rgba(0, 0, 0, 0.15);\n",
              "      filter: drop-shadow(0px 1px 2px rgba(0, 0, 0, 0.3));\n",
              "      fill: #FFFFFF;\n",
              "    }\n",
              "  </style>\n",
              "\n",
              "      <script>\n",
              "        const buttonEl =\n",
              "          document.querySelector('#df-4e58c55b-f2aa-4600-8038-713f0fe8e190 button.colab-df-convert');\n",
              "        buttonEl.style.display =\n",
              "          google.colab.kernel.accessAllowed ? 'block' : 'none';\n",
              "\n",
              "        async function convertToInteractive(key) {\n",
              "          const element = document.querySelector('#df-4e58c55b-f2aa-4600-8038-713f0fe8e190');\n",
              "          const dataTable =\n",
              "            await google.colab.kernel.invokeFunction('convertToInteractive',\n",
              "                                                     [key], {});\n",
              "          if (!dataTable) return;\n",
              "\n",
              "          const docLinkHtml = 'Like what you see? Visit the ' +\n",
              "            '<a target=\"_blank\" href=https://colab.research.google.com/notebooks/data_table.ipynb>data table notebook</a>'\n",
              "            + ' to learn more about interactive tables.';\n",
              "          element.innerHTML = '';\n",
              "          dataTable['output_type'] = 'display_data';\n",
              "          await google.colab.output.renderOutput(dataTable, element);\n",
              "          const docLink = document.createElement('div');\n",
              "          docLink.innerHTML = docLinkHtml;\n",
              "          element.appendChild(docLink);\n",
              "        }\n",
              "      </script>\n",
              "    </div>\n",
              "  </div>\n",
              "  "
            ]
          },
          "metadata": {},
          "execution_count": 24
        }
      ],
      "source": [
        "trump['est_time'] = (\n",
        "    trump['time'].dt.tz_convert(\"UTC\") # Set initial timezone to UTC\n",
        "                 .dt.tz_convert(\"EST\") # Convert to Eastern Time\n",
        ")\n",
        "trump.head()"
      ]
    },
    {
      "cell_type": "markdown",
      "metadata": {
        "nbgrader": {
          "grade": false,
          "grade_id": "need-to-do",
          "locked": true,
          "schema_version": 2,
          "solution": false
        },
        "id": "HcG1p2cIxYfy"
      },
      "source": [
        "### Question 5a\n",
        "\n",
        "Add a column called `hour` to the `trump` table which contains the hour of the day as floating point number computed by:\n",
        "\n",
        "$$\n",
        "\\text{hour} + \\frac{\\text{minute}}{60} + \\frac{\\text{second}}{60^2}\n",
        "$$\n",
        "\n",
        "* **Hint:** See the cell above for an example of working with [dt accessors](https://pandas.pydata.org/pandas-docs/stable/getting_started/basics.html#basics-dt-accessors).\n",
        "\n",
        "<!--\n",
        "BEGIN QUESTION\n",
        "name: q4a\n",
        "points: 1\n",
        "-->"
      ]
    },
    {
      "cell_type": "code",
      "execution_count": null,
      "metadata": {
        "nbgrader": {
          "grade": false,
          "grade_id": "q4b-answer",
          "locked": false,
          "schema_version": 2,
          "solution": true
        },
        "tags": [
          "student"
        ],
        "id": "0Uez8x93xYfy"
      },
      "outputs": [],
      "source": [
        "# BEGIN YOUR CODE\n",
        "# -----------------------\n",
        "trump['hour'] = trump['est_time'].dt.hour + trump['est_time'].dt.minute.divide(60) + trump['est_time'].dt.second.divide(60*60)\n",
        "# -----------------------\n",
        "# END YOUR CODE"
      ]
    },
    {
      "cell_type": "code",
      "execution_count": null,
      "metadata": {
        "colab": {
          "base_uri": "https://localhost:8080/"
        },
        "id": "IxZJs9_5xYfy",
        "outputId": "0917f345-fc78-400e-a372-1c76e99709f7"
      },
      "outputs": [
        {
          "output_type": "stream",
          "name": "stdout",
          "text": [
            "Passed all unit tests!\n"
          ]
        }
      ],
      "source": [
        "assert np.isclose(trump.loc[690171032150237184]['hour'], 8.93639) == True\n",
        "\n",
        "print('Passed all unit tests!')"
      ]
    },
    {
      "cell_type": "markdown",
      "metadata": {
        "nbgrader": {
          "grade": false,
          "grade_id": "q4c",
          "locked": true,
          "schema_version": 2,
          "solution": false
        },
        "id": "ibhqCymPxYfy"
      },
      "source": [
        "### Question 5b\n",
        "\n",
        "Use this data along with the seaborn `distplot` function to examine the distribution over hours of the day in eastern time that trump tweets on each device for the 2 most commonly used devices.\n",
        "\n",
        "<!--\n",
        "BEGIN QUESTION\n",
        "name: q4b\n",
        "points: 2\n",
        "manual: true\n",
        "-->\n",
        "<!-- EXPORT TO PDF -->"
      ]
    },
    {
      "cell_type": "code",
      "execution_count": null,
      "metadata": {
        "nbgrader": {
          "grade": true,
          "grade_id": "q4c-answer",
          "locked": false,
          "points": 2,
          "schema_version": 2,
          "solution": true
        },
        "colab": {
          "base_uri": "https://localhost:8080/",
          "height": 412
        },
        "id": "5c6C9Wz3xYfy",
        "outputId": "81e9c853-c554-4410-8ba6-6d096dd68bb4"
      },
      "outputs": [
        {
          "output_type": "stream",
          "name": "stderr",
          "text": [
            "/usr/local/lib/python3.7/dist-packages/seaborn/distributions.py:2619: FutureWarning: `distplot` is a deprecated function and will be removed in a future version. Please adapt your code to use either `displot` (a figure-level function with similar flexibility) or `kdeplot` (an axes-level function for kernel density plots).\n",
            "  warnings.warn(msg, FutureWarning)\n",
            "/usr/local/lib/python3.7/dist-packages/seaborn/distributions.py:2619: FutureWarning: `distplot` is a deprecated function and will be removed in a future version. Please adapt your code to use either `displot` (a figure-level function with similar flexibility) or `kdeplot` (an axes-level function for kernel density plots).\n",
            "  warnings.warn(msg, FutureWarning)\n"
          ]
        },
        {
          "output_type": "execute_result",
          "data": {
            "text/plain": [
              "<matplotlib.legend.Legend at 0x7f342f1e83d0>"
            ]
          },
          "metadata": {},
          "execution_count": 27
        },
        {
          "output_type": "display_data",
          "data": {
            "text/plain": [
              "<Figure size 432x288 with 1 Axes>"
            ],
            "image/png": "[encoded data removed]"
          },
          "metadata": {
            "needs_background": "light"
          }
        }
      ],
      "source": [
        "# BEGIN YOUR CODE\n",
        "# -----------------------\n",
        "top_devices = {'Twitter for iPhone' : 'blue', 'Twitter for Android' : 'red'}\n",
        "for device in top_devices:\n",
        "  subset = trump[trump['source'] == device]\n",
        "  sns.distplot(subset['hour'], kde=True, hist=False , color=top_devices[device], label=device)\n",
        "\n",
        "plt.legend(prop={'size' : 14})\n",
        "# -----------------------\n",
        "# END YOUR CODE"
      ]
    },
    {
      "cell_type": "markdown",
      "metadata": {
        "nbgrader": {
          "grade": false,
          "grade_id": "q4d",
          "locked": true,
          "schema_version": 2,
          "solution": false
        },
        "id": "FgTdP6NexYfy"
      },
      "source": [
        "### Question 5c\n",
        "\n",
        "According to [this Verge article](https://www.theverge.com/2017/3/29/15103504/donald-trump-iphone-using-switched-android), Donald Trump switched from an Android to an iPhone sometime in March 2017.\n",
        "\n",
        "Let's see if this information significantly changes our plot. Create a figure similar to your figure from question 5b, but this time, only use tweets that were tweeted before 2017.\n",
        "\n",
        "<!--\n",
        "BEGIN QUESTION\n",
        "name: q4c\n",
        "points: 2\n",
        "manual: true\n",
        "-->\n",
        "<!-- EXPORT TO PDF -->"
      ]
    },
    {
      "cell_type": "code",
      "execution_count": null,
      "metadata": {
        "nbgrader": {
          "grade": true,
          "grade_id": "cell-9d60149ec24272e3",
          "locked": false,
          "points": 0,
          "schema_version": 2,
          "solution": true
        },
        "colab": {
          "base_uri": "https://localhost:8080/",
          "height": 412
        },
        "id": "zeFAIIBVxYfy",
        "outputId": "48aca5cd-558d-4854-82f2-6872267e0f40"
      },
      "outputs": [
        {
          "output_type": "stream",
          "name": "stderr",
          "text": [
            "/usr/local/lib/python3.7/dist-packages/seaborn/distributions.py:2619: FutureWarning: `distplot` is a deprecated function and will be removed in a future version. Please adapt your code to use either `displot` (a figure-level function with similar flexibility) or `kdeplot` (an axes-level function for kernel density plots).\n",
            "  warnings.warn(msg, FutureWarning)\n",
            "/usr/local/lib/python3.7/dist-packages/seaborn/distributions.py:2619: FutureWarning: `distplot` is a deprecated function and will be removed in a future version. Please adapt your code to use either `displot` (a figure-level function with similar flexibility) or `kdeplot` (an axes-level function for kernel density plots).\n",
            "  warnings.warn(msg, FutureWarning)\n"
          ]
        },
        {
          "output_type": "execute_result",
          "data": {
            "text/plain": [
              "<matplotlib.legend.Legend at 0x7f342f1e8d50>"
            ]
          },
          "metadata": {},
          "execution_count": 28
        },
        {
          "output_type": "display_data",
          "data": {
            "text/plain": [
              "<Figure size 432x288 with 1 Axes>"
            ],
            "image/png": "[encoded data removed]"
          },
          "metadata": {
            "needs_background": "light"
          }
        }
      ],
      "source": [
        "# BEGIN YOUR CODE\n",
        "# -----------------------\n",
        "top_devices = {'Twitter for iPhone' : 'blue', 'Twitter for Android' : 'red'}\n",
        "for device in top_devices:\n",
        "  subset = trump[(trump['source'] == device) & (trump['year'] < 2017)]\n",
        "  sns.distplot(subset['hour'], kde=True, hist=False , color=top_devices[device], label=device)\n",
        "\n",
        "plt.legend(prop={'size' : 12})\n",
        "# -----------------------\n",
        "# END YOUR CODE"
      ]
    },
    {
      "cell_type": "markdown",
      "metadata": {
        "id": "xkt4UfgpxYfy"
      },
      "source": [
        "### Question 5d\n",
        "\n",
        "During the campaign, it was theorized that Donald Trump's tweets from Android devices were written by him personally, and the tweets from iPhones were from his staff. Does your figure give support to this theory? What kinds of additional analysis could help support or reject this claim?\n",
        "\n",
        "<!--\n",
        "BEGIN QUESTION\n",
        "name: q4d\n",
        "points: 1\n",
        "manual: true\n",
        "-->\n",
        "<!-- EXPORT TO PDF -->"
      ]
    },
    {
      "cell_type": "markdown",
      "metadata": {
        "id": "ISZNN5rhxYfy"
      },
      "source": [
        "Answer: 글을 쓸 때 표현의 성향을 알아보면 될 것 같습니다."
      ]
    },
    {
      "cell_type": "markdown",
      "metadata": {
        "nbgrader": {
          "grade": false,
          "grade_id": "q6-header",
          "locked": true,
          "schema_version": 2,
          "solution": false
        },
        "id": "vLqDaECsxYfz"
      },
      "source": [
        "---\n",
        "# Part 3: Sentiment Analysis\n",
        "\n",
        "It turns out that we can use the words in Trump's tweets to calculate a measure of the sentiment of the tweet. For example, the sentence \"I love America!\" has positive sentiment, whereas the sentence \"I hate taxes!\" has a negative sentiment. In addition, some words have stronger positive / negative sentiment than others: \"I love America.\" is more positive than \"I like America.\"\n",
        "\n",
        "We will use the [VADER (Valence Aware Dictionary and sEntiment Reasoner)](https://github.com/cjhutto/vaderSentiment) lexicon to analyze the sentiment of Trump's tweets. VADER is a lexicon and rule-based sentiment analysis tool that is specifically attuned to sentiments expressed in social media which is great for our usage.\n",
        "\n",
        "The VADER lexicon gives the sentiment of individual words. Run the following cell to show the first few rows of the lexicon:"
      ]
    },
    {
      "cell_type": "code",
      "execution_count": null,
      "metadata": {
        "nbgrader": {
          "grade": false,
          "grade_id": "head-vader",
          "locked": true,
          "schema_version": 2,
          "solution": false
        },
        "colab": {
          "base_uri": "https://localhost:8080/"
        },
        "id": "_P2NvSyxxYfz",
        "outputId": "f9fa3cbc-488f-4753-a95f-f0a25ca32b9c"
      },
      "outputs": [
        {
          "output_type": "stream",
          "name": "stdout",
          "text": [
            "$:\t-1.5\t0.80623\t[-1, -1, -1, -1, -3, -1, -3, -1, -2, -1]\n",
            "%)\t-0.4\t1.0198\t[-1, 0, -1, 0, 0, -2, -1, 2, -1, 0]\n",
            "%-)\t-1.5\t1.43178\t[-2, 0, -2, -2, -1, 2, -2, -3, -2, -3]\n",
            "&-:\t-0.4\t1.42829\t[-3, -1, 0, 0, -1, -1, -1, 2, -1, 2]\n",
            "&:\t-0.7\t0.64031\t[0, -1, -1, -1, 1, -1, -1, -1, -1, -1]\n",
            "( '}{' )\t1.6\t0.66332\t[1, 2, 2, 1, 1, 2, 2, 1, 3, 1]\n",
            "(%\t-0.9\t0.9434\t[0, 0, 1, -1, -1, -1, -2, -2, -1, -2]\n",
            "('-:\t2.2\t1.16619\t[4, 1, 4, 3, 1, 2, 3, 1, 2, 1]\n",
            "(':\t2.3\t0.9\t[1, 3, 3, 2, 2, 4, 2, 3, 1, 2]\n",
            "((-:\t2.1\t0.53852\t[2, 2, 2, 1, 2, 3, 2, 2, 3, 2]\n",
            "\n"
          ]
        }
      ],
      "source": [
        "print(''.join(open(workspace_path+\"vader_lexicon.txt\").readlines()[:10]))"
      ]
    },
    {
      "cell_type": "markdown",
      "metadata": {
        "nbgrader": {
          "grade": false,
          "grade_id": "q6a-header",
          "locked": true,
          "schema_version": 2,
          "solution": false
        },
        "id": "A5xLy2PKxYfz"
      },
      "source": [
        "## Question 6\n",
        "\n",
        "As you can see, the lexicon contains emojis too! Each row contains a word and the *polarity* of that word, measuring how positive or negative the word is.\n",
        "\n",
        "(How did they decide the polarities of these words? What are the other two columns in the lexicon? See the link above.)\n",
        "\n",
        "### Question 6a\n",
        "\n",
        "Read in the lexicon into a DataFrame called `sent`. The index of the DataFrame should be the words in the lexicon. `sent` should have one column named `polarity`, storing the polarity of each word.\n",
        "\n",
        "* **Hint:** The `pd.read_csv` function may help here. \n",
        "\n",
        "<!--\n",
        "BEGIN QUESTION\n",
        "name: q5a\n",
        "points: 1\n",
        "-->"
      ]
    },
    {
      "cell_type": "code",
      "execution_count": null,
      "metadata": {
        "nbgrader": {
          "grade": false,
          "grade_id": "q6a1",
          "locked": false,
          "schema_version": 2,
          "solution": true
        },
        "tags": [
          "student"
        ],
        "colab": {
          "base_uri": "https://localhost:8080/",
          "height": 237
        },
        "id": "Plzk1TzZxYfz",
        "outputId": "b9dee43b-fd40-49c1-ef40-d3a71284c52b"
      },
      "outputs": [
        {
          "output_type": "execute_result",
          "data": {
            "text/plain": [
              "      polarity\n",
              "word          \n",
              "$:        -1.5\n",
              "%)        -0.4\n",
              "%-)       -1.5\n",
              "&-:       -0.4\n",
              "&:        -0.7"
            ],
            "text/html": [
              "\n",
              "  <div id=\"df-ba4ef956-dd8c-4fd5-8c53-9b4afecf4720\">\n",
              "    <div class=\"colab-df-container\">\n",
              "      <div>\n",
              "<style scoped>\n",
              "    .dataframe tbody tr th:only-of-type {\n",
              "        vertical-align: middle;\n",
              "    }\n",
              "\n",
              "    .dataframe tbody tr th {\n",
              "        vertical-align: top;\n",
              "    }\n",
              "\n",
              "    .dataframe thead th {\n",
              "        text-align: right;\n",
              "    }\n",
              "</style>\n",
              "<table border=\"1\" class=\"dataframe\">\n",
              "  <thead>\n",
              "    <tr style=\"text-align: right;\">\n",
              "      <th></th>\n",
              "      <th>polarity</th>\n",
              "    </tr>\n",
              "    <tr>\n",
              "      <th>word</th>\n",
              "      <th></th>\n",
              "    </tr>\n",
              "  </thead>\n",
              "  <tbody>\n",
              "    <tr>\n",
              "      <th>$:</th>\n",
              "      <td>-1.5</td>\n",
              "    </tr>\n",
              "    <tr>\n",
              "      <th>%)</th>\n",
              "      <td>-0.4</td>\n",
              "    </tr>\n",
              "    <tr>\n",
              "      <th>%-)</th>\n",
              "      <td>-1.5</td>\n",
              "    </tr>\n",
              "    <tr>\n",
              "      <th>&amp;-:</th>\n",
              "      <td>-0.4</td>\n",
              "    </tr>\n",
              "    <tr>\n",
              "      <th>&amp;:</th>\n",
              "      <td>-0.7</td>\n",
              "    </tr>\n",
              "  </tbody>\n",
              "</table>\n",
              "</div>\n",
              "      <button class=\"colab-df-convert\" onclick=\"convertToInteractive('df-ba4ef956-dd8c-4fd5-8c53-9b4afecf4720')\"\n",
              "              title=\"Convert this dataframe to an interactive table.\"\n",
              "              style=\"display:none;\">\n",
              "        \n",
              "  <svg xmlns=\"http://www.w3.org/2000/svg\" height=\"24px\"viewBox=\"0 0 24 24\"\n",
              "       width=\"24px\">\n",
              "    <path d=\"M0 0h24v24H0V0z\" fill=\"none\"/>\n",
              "    <path d=\"M18.56 5.44l.94 2.06.94-2.06 2.06-.94-2.06-.94-.94-2.06-.94 2.06-2.06.94zm-11 1L8.5 8.5l.94-2.06 2.06-.94-2.06-.94L8.5 2.5l-.94 2.06-2.06.94zm10 10l.94 2.06.94-2.06 2.06-.94-2.06-.94-.94-2.06-.94 2.06-2.06.94z\"/><path d=\"M17.41 7.96l-1.37-1.37c-.4-.4-.92-.59-1.43-.59-.52 0-1.04.2-1.43.59L10.3 9.45l-7.72 7.72c-.78.78-.78 2.05 0 2.83L4 21.41c.39.39.9.59 1.41.59.51 0 1.02-.2 1.41-.59l7.78-7.78 2.81-2.81c.8-.78.8-2.07 0-2.86zM5.41 20L4 18.59l7.72-7.72 1.47 1.35L5.41 20z\"/>\n",
              "  </svg>\n",
              "      </button>\n",
              "      \n",
              "  <style>\n",
              "    .colab-df-container {\n",
              "      display:flex;\n",
              "      flex-wrap:wrap;\n",
              "      gap: 12px;\n",
              "    }\n",
              "\n",
              "    .colab-df-convert {\n",
              "      background-color: #E8F0FE;\n",
              "      border: none;\n",
              "      border-radius: 50%;\n",
              "      cursor: pointer;\n",
              "      display: none;\n",
              "      fill: #1967D2;\n",
              "      height: 32px;\n",
              "      padding: 0 0 0 0;\n",
              "      width: 32px;\n",
              "    }\n",
              "\n",
              "    .colab-df-convert:hover {\n",
              "      background-color: #E2EBFA;\n",
              "      box-shadow: 0px 1px 2px rgba(60, 64, 67, 0.3), 0px 1px 3px 1px rgba(60, 64, 67, 0.15);\n",
              "      fill: #174EA6;\n",
              "    }\n",
              "\n",
              "    [theme=dark] .colab-df-convert {\n",
              "      background-color: #3B4455;\n",
              "      fill: #D2E3FC;\n",
              "    }\n",
              "\n",
              "    [theme=dark] .colab-df-convert:hover {\n",
              "      background-color: #434B5C;\n",
              "      box-shadow: 0px 1px 3px 1px rgba(0, 0, 0, 0.15);\n",
              "      filter: drop-shadow(0px 1px 2px rgba(0, 0, 0, 0.3));\n",
              "      fill: #FFFFFF;\n",
              "    }\n",
              "  </style>\n",
              "\n",
              "      <script>\n",
              "        const buttonEl =\n",
              "          document.querySelector('#df-ba4ef956-dd8c-4fd5-8c53-9b4afecf4720 button.colab-df-convert');\n",
              "        buttonEl.style.display =\n",
              "          google.colab.kernel.accessAllowed ? 'block' : 'none';\n",
              "\n",
              "        async function convertToInteractive(key) {\n",
              "          const element = document.querySelector('#df-ba4ef956-dd8c-4fd5-8c53-9b4afecf4720');\n",
              "          const dataTable =\n",
              "            await google.colab.kernel.invokeFunction('convertToInteractive',\n",
              "                                                     [key], {});\n",
              "          if (!dataTable) return;\n",
              "\n",
              "          const docLinkHtml = 'Like what you see? Visit the ' +\n",
              "            '<a target=\"_blank\" href=https://colab.research.google.com/notebooks/data_table.ipynb>data table notebook</a>'\n",
              "            + ' to learn more about interactive tables.';\n",
              "          element.innerHTML = '';\n",
              "          dataTable['output_type'] = 'display_data';\n",
              "          await google.colab.output.renderOutput(dataTable, element);\n",
              "          const docLink = document.createElement('div');\n",
              "          docLink.innerHTML = docLinkHtml;\n",
              "          element.appendChild(docLink);\n",
              "        }\n",
              "      </script>\n",
              "    </div>\n",
              "  </div>\n",
              "  "
            ]
          },
          "metadata": {},
          "execution_count": 30
        }
      ],
      "source": [
        "# BEGIN YOUR CODE\n",
        "# -----------------------\n",
        "sent = pd.read_csv(workspace_path+\"vader_lexicon.txt\", header=None , sep='\\t')\n",
        "sent = sent.loc[:, 0:1]\n",
        "sent.rename(columns = {0 : 'word', 1 : 'polarity'}, inplace=True)\n",
        "\n",
        "sent = sent.set_index(keys='word')\n",
        "\n",
        "# -----------------------\n",
        "# END YOUR CODE\n",
        "sent.head()"
      ]
    },
    {
      "cell_type": "code",
      "execution_count": null,
      "metadata": {
        "colab": {
          "base_uri": "https://localhost:8080/"
        },
        "id": "URVMxs-ixYfz",
        "outputId": "56355eef-bba5-4107-c439-5d14d4fd375a"
      },
      "outputs": [
        {
          "output_type": "stream",
          "name": "stdout",
          "text": [
            "Passed all unit tests!\n"
          ]
        }
      ],
      "source": [
        "assert np.allclose(sent['polarity'].head(), [-1.5, -0.4, -1.5, -0.4, -0.7]) == True\n",
        "assert list(sent.index[5000:5005]) == ['paranoids', 'pardon', 'pardoned', 'pardoning', 'pardons']\n",
        "\n",
        "print('Passed all unit tests!')"
      ]
    },
    {
      "cell_type": "markdown",
      "metadata": {
        "nbgrader": {
          "grade": false,
          "grade_id": "q6b-header",
          "locked": true,
          "schema_version": 2,
          "solution": false
        },
        "id": "_9PMDuxCxYfz"
      },
      "source": [
        "### Question 6b\n",
        "\n",
        "Now, let's use this lexicon to calculate the overall sentiment for each of Trump's tweets. Here's the basic idea:\n",
        "\n",
        "1. For each tweet, find the sentiment of each word.\n",
        "2. Calculate the sentiment of each tweet by taking the sum of the sentiments of its words.\n",
        "\n",
        "First, let's lowercase the text in the tweets since the lexicon is also lowercase. Set the `text` column of the `trump` DataFrame to be the lowercased text of each tweet.\n",
        "\n",
        "<!--\n",
        "BEGIN QUESTION\n",
        "name: q5b\n",
        "points: 1\n",
        "-->"
      ]
    },
    {
      "cell_type": "code",
      "execution_count": null,
      "metadata": {
        "nbgrader": {
          "grade": false,
          "grade_id": "q6b-answer",
          "locked": false,
          "schema_version": 2,
          "solution": true
        },
        "tags": [
          "student"
        ],
        "colab": {
          "base_uri": "https://localhost:8080/",
          "height": 368
        },
        "id": "PWXX7OYfxYfz",
        "outputId": "7698b73d-f572-4a3f-818c-cc2001a15e76"
      },
      "outputs": [
        {
          "output_type": "execute_result",
          "data": {
            "text/plain": [
              "                                        time               source  \\\n",
              "id                                                                  \n",
              "786204978629185536 2016-10-12 14:00:48+00:00   Twitter for iPhone   \n",
              "786201435486781440 2016-10-12 13:46:43+00:00   Twitter for iPhone   \n",
              "786189446274248704 2016-10-12 12:59:05+00:00  Twitter for Android   \n",
              "786054986534969344 2016-10-12 04:04:47+00:00   Twitter for iPhone   \n",
              "786007502639038464 2016-10-12 00:56:06+00:00   Twitter for iPhone   \n",
              "\n",
              "                                                                                                                                                                    text  \\\n",
              "id                                                                                                                                                                         \n",
              "786204978629185536                                                                                       pay to play politics. \\n#crookedhillary https://t.co/wjsl8itvvk   \n",
              "786201435486781440                              very little pick-up by the dishonest media of incredible information provided by wikileaks. so dishonest! rigged system!   \n",
              "786189446274248704                      crooked hillary clinton likes to talk about the things she will do but she has been there for 30 years - why didn't she do them?   \n",
              "786054986534969344               thank you florida- a movement that has never been seen before and will never be seen again. lets get out &amp;… https://t.co/t9xm9wfdzi   \n",
              "786007502639038464  join me thursday in florida &amp; ohio!\\nwest palm beach, fl at noon:\\nhttps://t.co/jwbznqhxg9\\ncincinnati, oh this 7:30pm:\\nhttps://t.co/5w2uhalpix   \n",
              "\n",
              "                    retweet_count         year                  est_time  \\\n",
              "id                                                                         \n",
              "786204978629185536          24915  2016.778689 2016-10-12 09:00:48-05:00   \n",
              "786201435486781440          22609  2016.778689 2016-10-12 08:46:43-05:00   \n",
              "786189446274248704          18329  2016.778689 2016-10-12 07:59:05-05:00   \n",
              "786054986534969344          18789  2016.778689 2016-10-11 23:04:47-05:00   \n",
              "786007502639038464           7761  2016.778689 2016-10-11 19:56:06-05:00   \n",
              "\n",
              "                         hour  \n",
              "id                             \n",
              "786204978629185536   9.013333  \n",
              "786201435486781440   8.778611  \n",
              "786189446274248704   7.984722  \n",
              "786054986534969344  23.079722  \n",
              "786007502639038464  19.935000  "
            ],
            "text/html": [
              "\n",
              "  <div id=\"df-46873fb5-4f3d-4052-a425-5e08932fd616\">\n",
              "    <div class=\"colab-df-container\">\n",
              "      <div>\n",
              "<style scoped>\n",
              "    .dataframe tbody tr th:only-of-type {\n",
              "        vertical-align: middle;\n",
              "    }\n",
              "\n",
              "    .dataframe tbody tr th {\n",
              "        vertical-align: top;\n",
              "    }\n",
              "\n",
              "    .dataframe thead th {\n",
              "        text-align: right;\n",
              "    }\n",
              "</style>\n",
              "<table border=\"1\" class=\"dataframe\">\n",
              "  <thead>\n",
              "    <tr style=\"text-align: right;\">\n",
              "      <th></th>\n",
              "      <th>time</th>\n",
              "      <th>source</th>\n",
              "      <th>text</th>\n",
              "      <th>retweet_count</th>\n",
              "      <th>year</th>\n",
              "      <th>est_time</th>\n",
              "      <th>hour</th>\n",
              "    </tr>\n",
              "    <tr>\n",
              "      <th>id</th>\n",
              "      <th></th>\n",
              "      <th></th>\n",
              "      <th></th>\n",
              "      <th></th>\n",
              "      <th></th>\n",
              "      <th></th>\n",
              "      <th></th>\n",
              "    </tr>\n",
              "  </thead>\n",
              "  <tbody>\n",
              "    <tr>\n",
              "      <th>786204978629185536</th>\n",
              "      <td>2016-10-12 14:00:48+00:00</td>\n",
              "      <td>Twitter for iPhone</td>\n",
              "      <td>pay to play politics. \\n#crookedhillary https://t.co/wjsl8itvvk</td>\n",
              "      <td>24915</td>\n",
              "      <td>2016.778689</td>\n",
              "      <td>2016-10-12 09:00:48-05:00</td>\n",
              "      <td>9.013333</td>\n",
              "    </tr>\n",
              "    <tr>\n",
              "      <th>786201435486781440</th>\n",
              "      <td>2016-10-12 13:46:43+00:00</td>\n",
              "      <td>Twitter for iPhone</td>\n",
              "      <td>very little pick-up by the dishonest media of incredible information provided by wikileaks. so dishonest! rigged system!</td>\n",
              "      <td>22609</td>\n",
              "      <td>2016.778689</td>\n",
              "      <td>2016-10-12 08:46:43-05:00</td>\n",
              "      <td>8.778611</td>\n",
              "    </tr>\n",
              "    <tr>\n",
              "      <th>786189446274248704</th>\n",
              "      <td>2016-10-12 12:59:05+00:00</td>\n",
              "      <td>Twitter for Android</td>\n",
              "      <td>crooked hillary clinton likes to talk about the things she will do but she has been there for 30 years - why didn't she do them?</td>\n",
              "      <td>18329</td>\n",
              "      <td>2016.778689</td>\n",
              "      <td>2016-10-12 07:59:05-05:00</td>\n",
              "      <td>7.984722</td>\n",
              "    </tr>\n",
              "    <tr>\n",
              "      <th>786054986534969344</th>\n",
              "      <td>2016-10-12 04:04:47+00:00</td>\n",
              "      <td>Twitter for iPhone</td>\n",
              "      <td>thank you florida- a movement that has never been seen before and will never be seen again. lets get out &amp;amp;… https://t.co/t9xm9wfdzi</td>\n",
              "      <td>18789</td>\n",
              "      <td>2016.778689</td>\n",
              "      <td>2016-10-11 23:04:47-05:00</td>\n",
              "      <td>23.079722</td>\n",
              "    </tr>\n",
              "    <tr>\n",
              "      <th>786007502639038464</th>\n",
              "      <td>2016-10-12 00:56:06+00:00</td>\n",
              "      <td>Twitter for iPhone</td>\n",
              "      <td>join me thursday in florida &amp;amp; ohio!\\nwest palm beach, fl at noon:\\nhttps://t.co/jwbznqhxg9\\ncincinnati, oh this 7:30pm:\\nhttps://t.co/5w2uhalpix</td>\n",
              "      <td>7761</td>\n",
              "      <td>2016.778689</td>\n",
              "      <td>2016-10-11 19:56:06-05:00</td>\n",
              "      <td>19.935000</td>\n",
              "    </tr>\n",
              "  </tbody>\n",
              "</table>\n",
              "</div>\n",
              "      <button class=\"colab-df-convert\" onclick=\"convertToInteractive('df-46873fb5-4f3d-4052-a425-5e08932fd616')\"\n",
              "              title=\"Convert this dataframe to an interactive table.\"\n",
              "              style=\"display:none;\">\n",
              "        \n",
              "  <svg xmlns=\"http://www.w3.org/2000/svg\" height=\"24px\"viewBox=\"0 0 24 24\"\n",
              "       width=\"24px\">\n",
              "    <path d=\"M0 0h24v24H0V0z\" fill=\"none\"/>\n",
              "    <path d=\"M18.56 5.44l.94 2.06.94-2.06 2.06-.94-2.06-.94-.94-2.06-.94 2.06-2.06.94zm-11 1L8.5 8.5l.94-2.06 2.06-.94-2.06-.94L8.5 2.5l-.94 2.06-2.06.94zm10 10l.94 2.06.94-2.06 2.06-.94-2.06-.94-.94-2.06-.94 2.06-2.06.94z\"/><path d=\"M17.41 7.96l-1.37-1.37c-.4-.4-.92-.59-1.43-.59-.52 0-1.04.2-1.43.59L10.3 9.45l-7.72 7.72c-.78.78-.78 2.05 0 2.83L4 21.41c.39.39.9.59 1.41.59.51 0 1.02-.2 1.41-.59l7.78-7.78 2.81-2.81c.8-.78.8-2.07 0-2.86zM5.41 20L4 18.59l7.72-7.72 1.47 1.35L5.41 20z\"/>\n",
              "  </svg>\n",
              "      </button>\n",
              "      \n",
              "  <style>\n",
              "    .colab-df-container {\n",
              "      display:flex;\n",
              "      flex-wrap:wrap;\n",
              "      gap: 12px;\n",
              "    }\n",
              "\n",
              "    .colab-df-convert {\n",
              "      background-color: #E8F0FE;\n",
              "      border: none;\n",
              "      border-radius: 50%;\n",
              "      cursor: pointer;\n",
              "      display: none;\n",
              "      fill: #1967D2;\n",
              "      height: 32px;\n",
              "      padding: 0 0 0 0;\n",
              "      width: 32px;\n",
              "    }\n",
              "\n",
              "    .colab-df-convert:hover {\n",
              "      background-color: #E2EBFA;\n",
              "      box-shadow: 0px 1px 2px rgba(60, 64, 67, 0.3), 0px 1px 3px 1px rgba(60, 64, 67, 0.15);\n",
              "      fill: #174EA6;\n",
              "    }\n",
              "\n",
              "    [theme=dark] .colab-df-convert {\n",
              "      background-color: #3B4455;\n",
              "      fill: #D2E3FC;\n",
              "    }\n",
              "\n",
              "    [theme=dark] .colab-df-convert:hover {\n",
              "      background-color: #434B5C;\n",
              "      box-shadow: 0px 1px 3px 1px rgba(0, 0, 0, 0.15);\n",
              "      filter: drop-shadow(0px 1px 2px rgba(0, 0, 0, 0.3));\n",
              "      fill: #FFFFFF;\n",
              "    }\n",
              "  </style>\n",
              "\n",
              "      <script>\n",
              "        const buttonEl =\n",
              "          document.querySelector('#df-46873fb5-4f3d-4052-a425-5e08932fd616 button.colab-df-convert');\n",
              "        buttonEl.style.display =\n",
              "          google.colab.kernel.accessAllowed ? 'block' : 'none';\n",
              "\n",
              "        async function convertToInteractive(key) {\n",
              "          const element = document.querySelector('#df-46873fb5-4f3d-4052-a425-5e08932fd616');\n",
              "          const dataTable =\n",
              "            await google.colab.kernel.invokeFunction('convertToInteractive',\n",
              "                                                     [key], {});\n",
              "          if (!dataTable) return;\n",
              "\n",
              "          const docLinkHtml = 'Like what you see? Visit the ' +\n",
              "            '<a target=\"_blank\" href=https://colab.research.google.com/notebooks/data_table.ipynb>data table notebook</a>'\n",
              "            + ' to learn more about interactive tables.';\n",
              "          element.innerHTML = '';\n",
              "          dataTable['output_type'] = 'display_data';\n",
              "          await google.colab.output.renderOutput(dataTable, element);\n",
              "          const docLink = document.createElement('div');\n",
              "          docLink.innerHTML = docLinkHtml;\n",
              "          element.appendChild(docLink);\n",
              "        }\n",
              "      </script>\n",
              "    </div>\n",
              "  </div>\n",
              "  "
            ]
          },
          "metadata": {},
          "execution_count": 32
        }
      ],
      "source": [
        "# BEGIN YOUR CODE\n",
        "# -----------------------\n",
        "trump['text'] = trump['text'].str.lower()\n",
        "# -----------------------\n",
        "# END YOUR CODE\n",
        "trump.head()"
      ]
    },
    {
      "cell_type": "code",
      "execution_count": null,
      "metadata": {
        "colab": {
          "base_uri": "https://localhost:8080/"
        },
        "id": "QzmEPoBKxYfz",
        "outputId": "3dc964e6-7a38-4a56-81ce-0cb012f24afd"
      },
      "outputs": [
        {
          "output_type": "stream",
          "name": "stdout",
          "text": [
            "Passed all unit tests!\n"
          ]
        }
      ],
      "source": [
        "assert trump['text'].loc[884740553040175104] == 'working hard to get the olympics for the united states (l.a.). stay tuned!'\n",
        "\n",
        "print('Passed all unit tests!')"
      ]
    },
    {
      "cell_type": "markdown",
      "metadata": {
        "nbgrader": {
          "grade": false,
          "grade_id": "q6c-header",
          "locked": true,
          "schema_version": 2,
          "solution": false
        },
        "id": "5iHJEu7exYfz"
      },
      "source": [
        "### Question 6c\n",
        "\n",
        "Now, let's get rid of punctuation since it will cause us to fail to match words. Create a new column called `no_punc` in the `trump` DataFrame to be the lowercased text of each tweet with all punctuation replaced by a single space. We consider punctuation characters to be **any character that isn't a Unicode word character or a whitespace character**. You may want to consult the Python documentation on regexes for this problem.\n",
        "\n",
        "(Why don't we simply remove punctuation instead of replacing with a space? See if you can figure this out by looking at the tweet data.)\n",
        "\n",
        "<!--\n",
        "BEGIN QUESTION\n",
        "name: q5c\n",
        "points: 1\n",
        "-->"
      ]
    },
    {
      "cell_type": "code",
      "execution_count": null,
      "metadata": {
        "nbgrader": {
          "grade": false,
          "grade_id": "q6c",
          "locked": false,
          "schema_version": 2,
          "solution": true
        },
        "tags": [
          "student"
        ],
        "id": "0NnUe3ybxYfz"
      },
      "outputs": [],
      "source": [
        "# BEGIN YOUR CODE\n",
        "# -----------------------\n",
        "punct_re = r'[^\\w\\s]'  # Save your regex in punct_re\n",
        "trump['no_punc'] = trump['text'].str.replace(punct_re, r'', regex=True)\n",
        "# -----------------------\n",
        "# END YOUR CODE"
      ]
    },
    {
      "cell_type": "code",
      "execution_count": null,
      "metadata": {
        "colab": {
          "base_uri": "https://localhost:8080/"
        },
        "id": "d0v7xOk9xYfz",
        "outputId": "7d8c6a6d-3dfa-425f-fa76-c3884a56a3b3"
      },
      "outputs": [
        {
          "output_type": "stream",
          "name": "stdout",
          "text": [
            "Passed all unit tests!\n"
          ]
        }
      ],
      "source": [
        "assert re.search(punct_re, 'this') == None\n",
        "assert re.search(punct_re, 'this is not ok.') != None\n",
        "assert re.search(punct_re, 'this#is#ok') != None\n",
        "assert re.search(punct_re, 'this^is ok') != None\n",
        "\n",
        "print('Passed all unit tests!')"
      ]
    },
    {
      "cell_type": "markdown",
      "metadata": {
        "nbgrader": {
          "grade": false,
          "grade_id": "q6d-header",
          "locked": true,
          "schema_version": 2,
          "solution": false
        },
        "id": "CzfdFKYgxYfz"
      },
      "source": [
        "### Question 6d\n",
        "\n",
        "Now, let's convert the tweets into what's called a [*tidy format*](https://cran.r-project.org/web/packages/tidyr/vignettes/tidy-data.html) to make the sentiments easier to calculate. Use the `no_punc` column of `trump` to create a table called `tidy_format`. The index of the table should be the IDs of the tweets, repeated once for every word in the tweet. It has two columns:\n",
        "\n",
        "1. `num`: The location of the word in the tweet. For example, if the tweet was \"i love america\", then the location of the word \"i\" is 0, \"love\" is 1, and \"america\" is 2.\n",
        "2. `word`: The individual words of each tweet.\n",
        "\n",
        "The first few rows of our `tidy_format` table look like:\n",
        "\n",
        "<table border=\"1\" class=\"dataframe\">\n",
        "  <thead>\n",
        "    <tr style=\"text-align: right;\">\n",
        "      <th></th>\n",
        "      <th>num</th>\n",
        "      <th>word</th>\n",
        "    </tr>\n",
        "  </thead>\n",
        "  <tbody>\n",
        "    <tr>\n",
        "      <th>894661651760377856</th>\n",
        "      <td>0</td>\n",
        "      <td>i</td>\n",
        "    </tr>\n",
        "    <tr>\n",
        "      <th>894661651760377856</th>\n",
        "      <td>1</td>\n",
        "      <td>think</td>\n",
        "    </tr>\n",
        "    <tr>\n",
        "      <th>894661651760377856</th>\n",
        "      <td>2</td>\n",
        "      <td>senator</td>\n",
        "    </tr>\n",
        "    <tr>\n",
        "      <th>894661651760377856</th>\n",
        "      <td>3</td>\n",
        "      <td>blumenthal</td>\n",
        "    </tr>\n",
        "    <tr>\n",
        "      <th>894661651760377856</th>\n",
        "      <td>4</td>\n",
        "      <td>should</td>\n",
        "    </tr>\n",
        "  </tbody>\n",
        "</table>\n",
        "\n",
        "**Note that your DataFrame may look different from the one above.** However, you can double check that your tweet with ID `894661651760377856` has the same rows as ours. Our tests don't check whether your table looks exactly like ours.\n",
        "\n",
        "As usual, try to avoid using any for loops. Our solution uses a chain of 5 methods on the `trump` DataFrame, albeit using some rather advanced Pandas hacking.\n",
        "\n",
        "* **Hint 1:** Try looking at the `expand` argument to pandas' `str.split`.\n",
        "\n",
        "* **Hint 2:** Try looking at the `stack()` method.\n",
        "\n",
        "* **Hint 3:** Try looking at the `level` parameter of the `reset_index` method.\n",
        "\n",
        "<!--\n",
        "BEGIN QUESTION\n",
        "name: q5d\n",
        "points: 2\n",
        "-->"
      ]
    },
    {
      "cell_type": "code",
      "execution_count": null,
      "metadata": {
        "nbgrader": {
          "grade": false,
          "grade_id": "q6d-answer",
          "locked": false,
          "schema_version": 2,
          "solution": true
        },
        "tags": [
          "student"
        ],
        "colab": {
          "base_uri": "https://localhost:8080/",
          "height": 455
        },
        "id": "2LZS5fv6xYfz",
        "outputId": "41d60d70-2af5-492a-b561-86e692204fc5"
      },
      "outputs": [
        {
          "output_type": "execute_result",
          "data": {
            "text/plain": [
              "                    num            word\n",
              "id                                     \n",
              "786204978629185536    0             pay\n",
              "786204978629185536    1              to\n",
              "786204978629185536    2            play\n",
              "786204978629185536    3        politics\n",
              "786204978629185536    4  crookedhillary\n",
              "...                 ...             ...\n",
              "786285509668696065   16            cuba\n",
              "786285509668696065   17           until\n",
              "786285509668696065   18        freedoms\n",
              "786285509668696065   19             are\n",
              "786285509668696065   20        restored\n",
              "\n",
              "[92151 rows x 2 columns]"
            ],
            "text/html": [
              "\n",
              "  <div id=\"df-d0a92bdb-4bf5-4ec2-aeb8-78c47f626d31\">\n",
              "    <div class=\"colab-df-container\">\n",
              "      <div>\n",
              "<style scoped>\n",
              "    .dataframe tbody tr th:only-of-type {\n",
              "        vertical-align: middle;\n",
              "    }\n",
              "\n",
              "    .dataframe tbody tr th {\n",
              "        vertical-align: top;\n",
              "    }\n",
              "\n",
              "    .dataframe thead th {\n",
              "        text-align: right;\n",
              "    }\n",
              "</style>\n",
              "<table border=\"1\" class=\"dataframe\">\n",
              "  <thead>\n",
              "    <tr style=\"text-align: right;\">\n",
              "      <th></th>\n",
              "      <th>num</th>\n",
              "      <th>word</th>\n",
              "    </tr>\n",
              "    <tr>\n",
              "      <th>id</th>\n",
              "      <th></th>\n",
              "      <th></th>\n",
              "    </tr>\n",
              "  </thead>\n",
              "  <tbody>\n",
              "    <tr>\n",
              "      <th>786204978629185536</th>\n",
              "      <td>0</td>\n",
              "      <td>pay</td>\n",
              "    </tr>\n",
              "    <tr>\n",
              "      <th>786204978629185536</th>\n",
              "      <td>1</td>\n",
              "      <td>to</td>\n",
              "    </tr>\n",
              "    <tr>\n",
              "      <th>786204978629185536</th>\n",
              "      <td>2</td>\n",
              "      <td>play</td>\n",
              "    </tr>\n",
              "    <tr>\n",
              "      <th>786204978629185536</th>\n",
              "      <td>3</td>\n",
              "      <td>politics</td>\n",
              "    </tr>\n",
              "    <tr>\n",
              "      <th>786204978629185536</th>\n",
              "      <td>4</td>\n",
              "      <td>crookedhillary</td>\n",
              "    </tr>\n",
              "    <tr>\n",
              "      <th>...</th>\n",
              "      <td>...</td>\n",
              "      <td>...</td>\n",
              "    </tr>\n",
              "    <tr>\n",
              "      <th>786285509668696065</th>\n",
              "      <td>16</td>\n",
              "      <td>cuba</td>\n",
              "    </tr>\n",
              "    <tr>\n",
              "      <th>786285509668696065</th>\n",
              "      <td>17</td>\n",
              "      <td>until</td>\n",
              "    </tr>\n",
              "    <tr>\n",
              "      <th>786285509668696065</th>\n",
              "      <td>18</td>\n",
              "      <td>freedoms</td>\n",
              "    </tr>\n",
              "    <tr>\n",
              "      <th>786285509668696065</th>\n",
              "      <td>19</td>\n",
              "      <td>are</td>\n",
              "    </tr>\n",
              "    <tr>\n",
              "      <th>786285509668696065</th>\n",
              "      <td>20</td>\n",
              "      <td>restored</td>\n",
              "    </tr>\n",
              "  </tbody>\n",
              "</table>\n",
              "<p>92151 rows × 2 columns</p>\n",
              "</div>\n",
              "      <button class=\"colab-df-convert\" onclick=\"convertToInteractive('df-d0a92bdb-4bf5-4ec2-aeb8-78c47f626d31')\"\n",
              "              title=\"Convert this dataframe to an interactive table.\"\n",
              "              style=\"display:none;\">\n",
              "        \n",
              "  <svg xmlns=\"http://www.w3.org/2000/svg\" height=\"24px\"viewBox=\"0 0 24 24\"\n",
              "       width=\"24px\">\n",
              "    <path d=\"M0 0h24v24H0V0z\" fill=\"none\"/>\n",
              "    <path d=\"M18.56 5.44l.94 2.06.94-2.06 2.06-.94-2.06-.94-.94-2.06-.94 2.06-2.06.94zm-11 1L8.5 8.5l.94-2.06 2.06-.94-2.06-.94L8.5 2.5l-.94 2.06-2.06.94zm10 10l.94 2.06.94-2.06 2.06-.94-2.06-.94-.94-2.06-.94 2.06-2.06.94z\"/><path d=\"M17.41 7.96l-1.37-1.37c-.4-.4-.92-.59-1.43-.59-.52 0-1.04.2-1.43.59L10.3 9.45l-7.72 7.72c-.78.78-.78 2.05 0 2.83L4 21.41c.39.39.9.59 1.41.59.51 0 1.02-.2 1.41-.59l7.78-7.78 2.81-2.81c.8-.78.8-2.07 0-2.86zM5.41 20L4 18.59l7.72-7.72 1.47 1.35L5.41 20z\"/>\n",
              "  </svg>\n",
              "      </button>\n",
              "      \n",
              "  <style>\n",
              "    .colab-df-container {\n",
              "      display:flex;\n",
              "      flex-wrap:wrap;\n",
              "      gap: 12px;\n",
              "    }\n",
              "\n",
              "    .colab-df-convert {\n",
              "      background-color: #E8F0FE;\n",
              "      border: none;\n",
              "      border-radius: 50%;\n",
              "      cursor: pointer;\n",
              "      display: none;\n",
              "      fill: #1967D2;\n",
              "      height: 32px;\n",
              "      padding: 0 0 0 0;\n",
              "      width: 32px;\n",
              "    }\n",
              "\n",
              "    .colab-df-convert:hover {\n",
              "      background-color: #E2EBFA;\n",
              "      box-shadow: 0px 1px 2px rgba(60, 64, 67, 0.3), 0px 1px 3px 1px rgba(60, 64, 67, 0.15);\n",
              "      fill: #174EA6;\n",
              "    }\n",
              "\n",
              "    [theme=dark] .colab-df-convert {\n",
              "      background-color: #3B4455;\n",
              "      fill: #D2E3FC;\n",
              "    }\n",
              "\n",
              "    [theme=dark] .colab-df-convert:hover {\n",
              "      background-color: #434B5C;\n",
              "      box-shadow: 0px 1px 3px 1px rgba(0, 0, 0, 0.15);\n",
              "      filter: drop-shadow(0px 1px 2px rgba(0, 0, 0, 0.3));\n",
              "      fill: #FFFFFF;\n",
              "    }\n",
              "  </style>\n",
              "\n",
              "      <script>\n",
              "        const buttonEl =\n",
              "          document.querySelector('#df-d0a92bdb-4bf5-4ec2-aeb8-78c47f626d31 button.colab-df-convert');\n",
              "        buttonEl.style.display =\n",
              "          google.colab.kernel.accessAllowed ? 'block' : 'none';\n",
              "\n",
              "        async function convertToInteractive(key) {\n",
              "          const element = document.querySelector('#df-d0a92bdb-4bf5-4ec2-aeb8-78c47f626d31');\n",
              "          const dataTable =\n",
              "            await google.colab.kernel.invokeFunction('convertToInteractive',\n",
              "                                                     [key], {});\n",
              "          if (!dataTable) return;\n",
              "\n",
              "          const docLinkHtml = 'Like what you see? Visit the ' +\n",
              "            '<a target=\"_blank\" href=https://colab.research.google.com/notebooks/data_table.ipynb>data table notebook</a>'\n",
              "            + ' to learn more about interactive tables.';\n",
              "          element.innerHTML = '';\n",
              "          dataTable['output_type'] = 'display_data';\n",
              "          await google.colab.output.renderOutput(dataTable, element);\n",
              "          const docLink = document.createElement('div');\n",
              "          docLink.innerHTML = docLinkHtml;\n",
              "          element.appendChild(docLink);\n",
              "        }\n",
              "      </script>\n",
              "    </div>\n",
              "  </div>\n",
              "  "
            ]
          },
          "metadata": {},
          "execution_count": 36
        }
      ],
      "source": [
        "# BEGIN YOUR CODE\n",
        "# -----------------------\n",
        "tidy_format = trump['no_punc'].str.split(expand=True).stack()\n",
        "tidy_format = tidy_format.to_frame()\n",
        "tidy_format = tidy_format.reset_index(level=1)\n",
        "tidy_format.rename(columns = {'level_1' : 'num', 0 : 'word'}, inplace=True)\n",
        "# -----------------------\n",
        "# END YOUR CODE\n",
        "\n",
        "tidy_format"
      ]
    },
    {
      "cell_type": "code",
      "execution_count": null,
      "metadata": {
        "colab": {
          "base_uri": "https://localhost:8080/"
        },
        "id": "lY7k4RwSxYfz",
        "outputId": "5963d90b-7544-47be-c084-af7e9937eabd"
      },
      "outputs": [
        {
          "output_type": "stream",
          "name": "stdout",
          "text": [
            "Passed all unit tests!\n"
          ]
        }
      ],
      "source": [
        "assert tidy_format.loc[894661651760377856].shape == (27,2)\n",
        "assert ' '.join(list(tidy_format.loc[894661651760377856]['word'])) == 'i think senator blumenthal should take a nice long vacation in vietnam where he lied about his service so he can at least say he was there'\n",
        "\n",
        "print('Passed all unit tests!')"
      ]
    },
    {
      "cell_type": "markdown",
      "metadata": {
        "nbgrader": {
          "grade": false,
          "grade_id": "q6e-header",
          "locked": true,
          "schema_version": 2,
          "solution": false
        },
        "id": "ofbg7rlYxYfz"
      },
      "source": [
        "### Question 6e\n",
        "\n",
        "Now that we have this table in the tidy format, it becomes much easier to find the sentiment of each tweet: we can join the table with the lexicon table. \n",
        "\n",
        "Add a `polarity` column to the `trump` table.  The `polarity` column should contain the sum of the sentiment polarity of each word in the text of the tweet.\n",
        "\n",
        "**Hints:** \n",
        "* You will need to merge the `tidy_format` and `sent` tables and group the final answer.\n",
        "* If certain words are not found in the `sent` table, set their polarities to 0.\n",
        "\n",
        "<!--\n",
        "BEGIN QUESTION\n",
        "name: q5e\n",
        "points: 2\n",
        "-->"
      ]
    },
    {
      "cell_type": "code",
      "execution_count": null,
      "metadata": {
        "nbgrader": {
          "grade": false,
          "grade_id": "q6e",
          "locked": false,
          "schema_version": 2,
          "solution": true
        },
        "tags": [
          "student"
        ],
        "colab": {
          "base_uri": "https://localhost:8080/",
          "height": 455
        },
        "id": "BtQjy3RcxYf0",
        "outputId": "08eb9a98-941a-4d11-a208-77a1c294b099"
      },
      "outputs": [
        {
          "output_type": "execute_result",
          "data": {
            "text/plain": [
              "                                                                                                                                                                    text  \\\n",
              "id                                                                                                                                                                         \n",
              "786204978629185536                                                                                       pay to play politics. \\n#crookedhillary https://t.co/wjsl8itvvk   \n",
              "786201435486781440                              very little pick-up by the dishonest media of incredible information provided by wikileaks. so dishonest! rigged system!   \n",
              "786189446274248704                      crooked hillary clinton likes to talk about the things she will do but she has been there for 30 years - why didn't she do them?   \n",
              "786054986534969344               thank you florida- a movement that has never been seen before and will never be seen again. lets get out &amp;… https://t.co/t9xm9wfdzi   \n",
              "786007502639038464  join me thursday in florida &amp; ohio!\\nwest palm beach, fl at noon:\\nhttps://t.co/jwbznqhxg9\\ncincinnati, oh this 7:30pm:\\nhttps://t.co/5w2uhalpix   \n",
              "...                                                                                                                                                                  ...   \n",
              "786560925113266176                     the phony story in the failing @nytimes is a total fabrication. written by same people as last discredited story on women. watch!   \n",
              "786554517680693248               why didn't the writer of the twelve year old article in people magazine mention the \"incident\" in her story. because it did not happen!   \n",
              "786340623804751872                i will be in cincinnati, ohio tomorrow night at 7:30pm- join me! #ohiovotesearly #votetrumppence16 \\ntickets:… https://t.co/bp5ihkbt2d   \n",
              "786310855843512320       the movement in lakeland, florida. voter registration extended to 10/18. register asap @ https://t.co/hfihperfgz &amp;… https://t.co/pygilshrgv   \n",
              "786285509668696065           the people of cuba have struggled too long. will reverse obama's executive orders and concessions towards cuba until freedoms are restored.   \n",
              "\n",
              "                    polarity  \n",
              "id                            \n",
              "786204978629185536       1.0  \n",
              "786201435486781440      -6.9  \n",
              "786189446274248704       1.8  \n",
              "786054986534969344       1.5  \n",
              "786007502639038464       1.2  \n",
              "...                      ...  \n",
              "786560925113266176      -4.2  \n",
              "786554517680693248       0.0  \n",
              "786340623804751872       1.2  \n",
              "786310855843512320       0.0  \n",
              "786285509668696065       1.2  \n",
              "\n",
              "[5210 rows x 2 columns]"
            ],
            "text/html": [
              "\n",
              "  <div id=\"df-a4806365-d11c-4253-bbbf-65b1ff0e857e\">\n",
              "    <div class=\"colab-df-container\">\n",
              "      <div>\n",
              "<style scoped>\n",
              "    .dataframe tbody tr th:only-of-type {\n",
              "        vertical-align: middle;\n",
              "    }\n",
              "\n",
              "    .dataframe tbody tr th {\n",
              "        vertical-align: top;\n",
              "    }\n",
              "\n",
              "    .dataframe thead th {\n",
              "        text-align: right;\n",
              "    }\n",
              "</style>\n",
              "<table border=\"1\" class=\"dataframe\">\n",
              "  <thead>\n",
              "    <tr style=\"text-align: right;\">\n",
              "      <th></th>\n",
              "      <th>text</th>\n",
              "      <th>polarity</th>\n",
              "    </tr>\n",
              "    <tr>\n",
              "      <th>id</th>\n",
              "      <th></th>\n",
              "      <th></th>\n",
              "    </tr>\n",
              "  </thead>\n",
              "  <tbody>\n",
              "    <tr>\n",
              "      <th>786204978629185536</th>\n",
              "      <td>pay to play politics. \\n#crookedhillary https://t.co/wjsl8itvvk</td>\n",
              "      <td>1.0</td>\n",
              "    </tr>\n",
              "    <tr>\n",
              "      <th>786201435486781440</th>\n",
              "      <td>very little pick-up by the dishonest media of incredible information provided by wikileaks. so dishonest! rigged system!</td>\n",
              "      <td>-6.9</td>\n",
              "    </tr>\n",
              "    <tr>\n",
              "      <th>786189446274248704</th>\n",
              "      <td>crooked hillary clinton likes to talk about the things she will do but she has been there for 30 years - why didn't she do them?</td>\n",
              "      <td>1.8</td>\n",
              "    </tr>\n",
              "    <tr>\n",
              "      <th>786054986534969344</th>\n",
              "      <td>thank you florida- a movement that has never been seen before and will never be seen again. lets get out &amp;amp;… https://t.co/t9xm9wfdzi</td>\n",
              "      <td>1.5</td>\n",
              "    </tr>\n",
              "    <tr>\n",
              "      <th>786007502639038464</th>\n",
              "      <td>join me thursday in florida &amp;amp; ohio!\\nwest palm beach, fl at noon:\\nhttps://t.co/jwbznqhxg9\\ncincinnati, oh this 7:30pm:\\nhttps://t.co/5w2uhalpix</td>\n",
              "      <td>1.2</td>\n",
              "    </tr>\n",
              "    <tr>\n",
              "      <th>...</th>\n",
              "      <td>...</td>\n",
              "      <td>...</td>\n",
              "    </tr>\n",
              "    <tr>\n",
              "      <th>786560925113266176</th>\n",
              "      <td>the phony story in the failing @nytimes is a total fabrication. written by same people as last discredited story on women. watch!</td>\n",
              "      <td>-4.2</td>\n",
              "    </tr>\n",
              "    <tr>\n",
              "      <th>786554517680693248</th>\n",
              "      <td>why didn't the writer of the twelve year old article in people magazine mention the \"incident\" in her story. because it did not happen!</td>\n",
              "      <td>0.0</td>\n",
              "    </tr>\n",
              "    <tr>\n",
              "      <th>786340623804751872</th>\n",
              "      <td>i will be in cincinnati, ohio tomorrow night at 7:30pm- join me! #ohiovotesearly #votetrumppence16 \\ntickets:… https://t.co/bp5ihkbt2d</td>\n",
              "      <td>1.2</td>\n",
              "    </tr>\n",
              "    <tr>\n",
              "      <th>786310855843512320</th>\n",
              "      <td>the movement in lakeland, florida. voter registration extended to 10/18. register asap @ https://t.co/hfihperfgz &amp;amp;… https://t.co/pygilshrgv</td>\n",
              "      <td>0.0</td>\n",
              "    </tr>\n",
              "    <tr>\n",
              "      <th>786285509668696065</th>\n",
              "      <td>the people of cuba have struggled too long. will reverse obama's executive orders and concessions towards cuba until freedoms are restored.</td>\n",
              "      <td>1.2</td>\n",
              "    </tr>\n",
              "  </tbody>\n",
              "</table>\n",
              "<p>5210 rows × 2 columns</p>\n",
              "</div>\n",
              "      <button class=\"colab-df-convert\" onclick=\"convertToInteractive('df-a4806365-d11c-4253-bbbf-65b1ff0e857e')\"\n",
              "              title=\"Convert this dataframe to an interactive table.\"\n",
              "              style=\"display:none;\">\n",
              "        \n",
              "  <svg xmlns=\"http://www.w3.org/2000/svg\" height=\"24px\"viewBox=\"0 0 24 24\"\n",
              "       width=\"24px\">\n",
              "    <path d=\"M0 0h24v24H0V0z\" fill=\"none\"/>\n",
              "    <path d=\"M18.56 5.44l.94 2.06.94-2.06 2.06-.94-2.06-.94-.94-2.06-.94 2.06-2.06.94zm-11 1L8.5 8.5l.94-2.06 2.06-.94-2.06-.94L8.5 2.5l-.94 2.06-2.06.94zm10 10l.94 2.06.94-2.06 2.06-.94-2.06-.94-.94-2.06-.94 2.06-2.06.94z\"/><path d=\"M17.41 7.96l-1.37-1.37c-.4-.4-.92-.59-1.43-.59-.52 0-1.04.2-1.43.59L10.3 9.45l-7.72 7.72c-.78.78-.78 2.05 0 2.83L4 21.41c.39.39.9.59 1.41.59.51 0 1.02-.2 1.41-.59l7.78-7.78 2.81-2.81c.8-.78.8-2.07 0-2.86zM5.41 20L4 18.59l7.72-7.72 1.47 1.35L5.41 20z\"/>\n",
              "  </svg>\n",
              "      </button>\n",
              "      \n",
              "  <style>\n",
              "    .colab-df-container {\n",
              "      display:flex;\n",
              "      flex-wrap:wrap;\n",
              "      gap: 12px;\n",
              "    }\n",
              "\n",
              "    .colab-df-convert {\n",
              "      background-color: #E8F0FE;\n",
              "      border: none;\n",
              "      border-radius: 50%;\n",
              "      cursor: pointer;\n",
              "      display: none;\n",
              "      fill: #1967D2;\n",
              "      height: 32px;\n",
              "      padding: 0 0 0 0;\n",
              "      width: 32px;\n",
              "    }\n",
              "\n",
              "    .colab-df-convert:hover {\n",
              "      background-color: #E2EBFA;\n",
              "      box-shadow: 0px 1px 2px rgba(60, 64, 67, 0.3), 0px 1px 3px 1px rgba(60, 64, 67, 0.15);\n",
              "      fill: #174EA6;\n",
              "    }\n",
              "\n",
              "    [theme=dark] .colab-df-convert {\n",
              "      background-color: #3B4455;\n",
              "      fill: #D2E3FC;\n",
              "    }\n",
              "\n",
              "    [theme=dark] .colab-df-convert:hover {\n",
              "      background-color: #434B5C;\n",
              "      box-shadow: 0px 1px 3px 1px rgba(0, 0, 0, 0.15);\n",
              "      filter: drop-shadow(0px 1px 2px rgba(0, 0, 0, 0.3));\n",
              "      fill: #FFFFFF;\n",
              "    }\n",
              "  </style>\n",
              "\n",
              "      <script>\n",
              "        const buttonEl =\n",
              "          document.querySelector('#df-a4806365-d11c-4253-bbbf-65b1ff0e857e button.colab-df-convert');\n",
              "        buttonEl.style.display =\n",
              "          google.colab.kernel.accessAllowed ? 'block' : 'none';\n",
              "\n",
              "        async function convertToInteractive(key) {\n",
              "          const element = document.querySelector('#df-a4806365-d11c-4253-bbbf-65b1ff0e857e');\n",
              "          const dataTable =\n",
              "            await google.colab.kernel.invokeFunction('convertToInteractive',\n",
              "                                                     [key], {});\n",
              "          if (!dataTable) return;\n",
              "\n",
              "          const docLinkHtml = 'Like what you see? Visit the ' +\n",
              "            '<a target=\"_blank\" href=https://colab.research.google.com/notebooks/data_table.ipynb>data table notebook</a>'\n",
              "            + ' to learn more about interactive tables.';\n",
              "          element.innerHTML = '';\n",
              "          dataTable['output_type'] = 'display_data';\n",
              "          await google.colab.output.renderOutput(dataTable, element);\n",
              "          const docLink = document.createElement('div');\n",
              "          docLink.innerHTML = docLinkHtml;\n",
              "          element.appendChild(docLink);\n",
              "        }\n",
              "      </script>\n",
              "    </div>\n",
              "  </div>\n",
              "  "
            ]
          },
          "metadata": {},
          "execution_count": 38
        }
      ],
      "source": [
        "# BEGIN YOUR CODE\n",
        "# -----------------------\n",
        "tidy_format['id'] = tidy_format.index\n",
        "merge = tidy_format.merge(sent, left_on='word', right_on='word', how='left')\n",
        "merge = merge.groupby(by='id').sum('polority')\n",
        "merge = merge.drop(['num'], axis='columns')\n",
        "\n",
        "trump['polarity'] = merge\n",
        "\n",
        "trump = trump.dropna()\n",
        "# -----------------------\n",
        "# END YOUR CODE\n",
        "\n",
        "trump[['text', 'polarity']]"
      ]
    },
    {
      "cell_type": "code",
      "execution_count": null,
      "metadata": {
        "id": "0cyNPRfdxYf0",
        "outputId": "c87df21a-3a17-46ce-a273-bbb36b8de179",
        "colab": {
          "base_uri": "https://localhost:8080/"
        }
      },
      "outputs": [
        {
          "output_type": "stream",
          "name": "stdout",
          "text": [
            "Passed all unit tests!\n"
          ]
        }
      ],
      "source": [
        "assert np.allclose(trump.loc[744701872456536064, 'polarity'], 8.4)\n",
        "assert np.allclose(trump.loc[745304731346702336, 'polarity'], 2.5)\n",
        "assert np.allclose(trump.loc[744519497764184064, 'polarity'], 1.7)\n",
        "assert np.allclose(trump.loc[894661651760377856, 'polarity'], 0.2)\n",
        "assert np.allclose(trump.loc[894620077634592769, 'polarity'], 5.4)\n",
        "\n",
        "print('Passed all unit tests!')"
      ]
    },
    {
      "cell_type": "markdown",
      "metadata": {
        "nbgrader": {
          "grade": false,
          "grade_id": "a-note-on-vader",
          "locked": true,
          "schema_version": 2,
          "solution": false
        },
        "id": "3S7Xn62FxYf0"
      },
      "source": [
        "Now we have a measure of the sentiment of each of his tweets! Note that this calculation is rather basic; you can read over the VADER readme to understand a more robust sentiment analysis.\n",
        "\n",
        "Now, run the cells below to see the most positive and most negative tweets from Trump in your dataset:"
      ]
    },
    {
      "cell_type": "code",
      "execution_count": null,
      "metadata": {
        "nbgrader": {
          "grade": false,
          "grade_id": "negative-tweets",
          "locked": true,
          "schema_version": 2,
          "solution": false
        },
        "id": "GKcglj04xYf0",
        "outputId": "abedb61e-cdc5-42ad-cf34-714afb13c55e",
        "colab": {
          "base_uri": "https://localhost:8080/"
        }
      },
      "outputs": [
        {
          "output_type": "stream",
          "name": "stdout",
          "text": [
            "Most negative tweets:\n",
            "\n",
            "   \"@fiiibuster: @jeffzeleny pathetic - you have no sufficient evidence that donald trump did not suffer from voter fraud, shame! bad reporter.\n",
            "\n",
            "   democrat jon ossoff would be a disaster in congress. very weak on crime and illegal immigration, bad for jobs and wants higher taxes. say no\n",
            "\n",
            "   yet another terrorist attack today in israel -- a father, shot at by a palestinian terrorist, was killed while:\n",
            "https://t.co/cv1hzkvbit\n",
            "\n",
            "   why is it that the horrendous protesters, who scream, curse punch, shut down roads/doors during my rallies,  are never blamed by media? sad!\n",
            "\n",
            "   lying cruz put out a statement, “trump &amp; rubio are w/obama on gay marriage.\" cruz is the worst liar, crazy or very dishonest. perhaps all 3?\n"
          ]
        }
      ],
      "source": [
        "print('Most negative tweets:')\n",
        "for t in trump.sort_values('polarity').head()['text']:\n",
        "    print('\\n  ', t)"
      ]
    },
    {
      "cell_type": "code",
      "execution_count": null,
      "metadata": {
        "nbgrader": {
          "grade": false,
          "grade_id": "postive-tweets",
          "locked": true,
          "schema_version": 2,
          "solution": false
        },
        "scrolled": true,
        "id": "HGXtfGRNxYf0",
        "outputId": "72850558-42ad-4663-dc0a-a741eaa484c4",
        "colab": {
          "base_uri": "https://localhost:8080/"
        }
      },
      "outputs": [
        {
          "output_type": "stream",
          "name": "stdout",
          "text": [
            "Most positive tweets:\n",
            "\n",
            "   rt @ivankatrump: 2016 has been one of the most eventful and exciting years of my life. i wish you peace, joy, love and laughter. happy new…\n",
            "\n",
            "   \"@pauladuvall2: we're all enjoying you, as well, mr. t.! you've inspired hope and a positive spirit throughout america! god bless you!\" nice\n",
            "\n",
            "   why can't the pundits be honest? hopefully we are all looking for a strong and great country again. i will make it strong and great!  jobs!\n",
            "\n",
            "   hope you like my nomination of judge neil gorsuch for the united states supreme court. he is a good and brilliant man, respected by all.\n",
            "\n",
            "   attending chief ryan owens' dignified transfer yesterday with my daughter ivanka was my great honor. to a great and brave man - thank you!\n"
          ]
        }
      ],
      "source": [
        "print('Most positive tweets:')\n",
        "for t in trump.sort_values('polarity', ascending=False).head()['text']:\n",
        "    print('\\n  ', t)"
      ]
    },
    {
      "cell_type": "markdown",
      "metadata": {
        "nbgrader": {
          "grade": false,
          "grade_id": "q6g",
          "locked": true,
          "schema_version": 2,
          "solution": false
        },
        "id": "LjmxuL0mxYf0"
      },
      "source": [
        "---\n",
        "\n",
        "Now, let's try looking at the distributions of sentiments for tweets containing certain keywords.\n",
        "\n",
        "In the cell below, we create a single plot showing both the distribution of tweet sentiments for tweets containing `nytimes`, as well as the distribution of tweet sentiments for tweets containing `fox`. Here, we notice that the president appears to say more positive things about Fox than the New York Times."
      ]
    },
    {
      "cell_type": "code",
      "execution_count": null,
      "metadata": {
        "nbgrader": {
          "grade": true,
          "grade_id": "q6g-answer",
          "locked": false,
          "points": 1,
          "schema_version": 2,
          "solution": true
        },
        "tags": [
          "student"
        ],
        "id": "JikqDZ5KxYf0",
        "outputId": "c1593357-dbc2-4443-e42e-ed38e3186cf3",
        "colab": {
          "base_uri": "https://localhost:8080/",
          "height": 414
        }
      },
      "outputs": [
        {
          "output_type": "stream",
          "name": "stderr",
          "text": [
            "/usr/local/lib/python3.7/dist-packages/seaborn/distributions.py:2619: FutureWarning: `distplot` is a deprecated function and will be removed in a future version. Please adapt your code to use either `displot` (a figure-level function with similar flexibility) or `histplot` (an axes-level function for histograms).\n",
            "  warnings.warn(msg, FutureWarning)\n",
            "/usr/local/lib/python3.7/dist-packages/seaborn/distributions.py:2619: FutureWarning: `distplot` is a deprecated function and will be removed in a future version. Please adapt your code to use either `displot` (a figure-level function with similar flexibility) or `histplot` (an axes-level function for histograms).\n",
            "  warnings.warn(msg, FutureWarning)\n"
          ]
        },
        {
          "output_type": "display_data",
          "data": {
            "text/plain": [
              "<Figure size 432x288 with 1 Axes>"
            ],
            "image/png": "[encoded data removed]"
          },
          "metadata": {
            "needs_background": "light"
          }
        }
      ],
      "source": [
        "sns.distplot(trump[trump['text'].str.lower().str.contains(\"nytimes\")]['polarity'], label = 'nytimes')\n",
        "sns.distplot(trump[trump['text'].str.lower().str.contains(\"fox\")]['polarity'], label = 'fox')\n",
        "plt.title('Distributions of Tweet Polarities (nytimes vs. fox)')\n",
        "plt.legend();"
      ]
    },
    {
      "cell_type": "markdown",
      "metadata": {
        "id": "5DMmLoLKxYf0"
      },
      "source": [
        "### Congratulations! You have completed HW3.\n",
        "\n",
        "Make sure you have run all cells in your notebook in order before running the cell below, so that all images/graphs appear in the output.,\n",
        "\n",
        "Please generate pdf as follows and submit it to Gradescope.\n",
        "\n",
        "**File > Print Preview > Print > Save as pdf**\n",
        "\n",
        "**Please save before submitting!**\n",
        "\n",
        "<!-- EXPECT 5 EXPORTED QUESTIONS -->"
      ]
    },
    {
      "cell_type": "code",
      "source": [
        ""
      ],
      "metadata": {
        "id": "5Oz5CxAzI1y-"
      },
      "execution_count": null,
      "outputs": []
    }
  ],
  "metadata": {
    "kernelspec": {
      "display_name": "Python 3",
      "language": "python",
      "name": "python3"
    },
    "language_info": {
      "codemirror_mode": {
        "name": "ipython",
        "version": 3
      },
      "file_extension": ".py",
      "mimetype": "text/x-python",
      "name": "python",
      "nbconvert_exporter": "python",
      "pygments_lexer": "ipython3",
      "version": "3.6.4"
    },
    "colab": {
      "name": "hw3.ipynb",
      "provenance": [],
      "collapsed_sections": []
    }
  },
  "nbformat": 4,
  "nbformat_minor": 0
}